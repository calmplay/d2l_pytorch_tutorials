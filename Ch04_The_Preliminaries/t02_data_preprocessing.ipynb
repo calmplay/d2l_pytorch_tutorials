{
 "cells": [
  {
   "cell_type": "code",
   "id": "initial_id",
   "metadata": {
    "collapsed": true,
    "ExecuteTime": {
     "end_time": "2024-10-14T06:18:53.519562Z",
     "start_time": "2024-10-14T06:18:53.513110Z"
    }
   },
   "source": "import os",
   "outputs": [],
   "execution_count": 1
  },
  {
   "metadata": {
    "ExecuteTime": {
     "end_time": "2024-10-14T06:18:53.527410Z",
     "start_time": "2024-10-14T06:18:53.521667Z"
    }
   },
   "cell_type": "code",
   "source": [
    "os.makedirs(os.path.join('..', 'data'), exist_ok=True)\n",
    "date_file = os.path.join('..', 'data', 'house_tiny.csv')\n",
    "with open(date_file, 'w') as f:\n",
    "    f.write('NumRooms,Alley,Price\\n')  # 列名\n",
    "    f.write('NA,Pave,127500\\n')  # 每行表示一个数据样本\n",
    "    f.write('2,NA,106000\\n')\n",
    "    f.write('4,NA,178100\\n')\n",
    "    f.write('NA,NA,140000\\n')"
   ],
   "id": "70c07406a84bcbde",
   "outputs": [],
   "execution_count": 2
  },
  {
   "metadata": {
    "ExecuteTime": {
     "end_time": "2024-10-14T06:18:53.831280Z",
     "start_time": "2024-10-14T06:18:53.528921Z"
    }
   },
   "cell_type": "code",
   "source": [
    "import pandas as pd\n",
    "\n",
    "data = pd.read_csv(date_file)\n",
    "data"
   ],
   "id": "5aecad60fb673231",
   "outputs": [
    {
     "data": {
      "text/plain": [
       "   NumRooms Alley   Price\n",
       "0       NaN  Pave  127500\n",
       "1       2.0   NaN  106000\n",
       "2       4.0   NaN  178100\n",
       "3       NaN   NaN  140000"
      ],
      "text/html": [
       "<div>\n",
       "<style scoped>\n",
       "    .dataframe tbody tr th:only-of-type {\n",
       "        vertical-align: middle;\n",
       "    }\n",
       "\n",
       "    .dataframe tbody tr th {\n",
       "        vertical-align: top;\n",
       "    }\n",
       "\n",
       "    .dataframe thead th {\n",
       "        text-align: right;\n",
       "    }\n",
       "</style>\n",
       "<table border=\"1\" class=\"dataframe\">\n",
       "  <thead>\n",
       "    <tr style=\"text-align: right;\">\n",
       "      <th></th>\n",
       "      <th>NumRooms</th>\n",
       "      <th>Alley</th>\n",
       "      <th>Price</th>\n",
       "    </tr>\n",
       "  </thead>\n",
       "  <tbody>\n",
       "    <tr>\n",
       "      <th>0</th>\n",
       "      <td>NaN</td>\n",
       "      <td>Pave</td>\n",
       "      <td>127500</td>\n",
       "    </tr>\n",
       "    <tr>\n",
       "      <th>1</th>\n",
       "      <td>2.0</td>\n",
       "      <td>NaN</td>\n",
       "      <td>106000</td>\n",
       "    </tr>\n",
       "    <tr>\n",
       "      <th>2</th>\n",
       "      <td>4.0</td>\n",
       "      <td>NaN</td>\n",
       "      <td>178100</td>\n",
       "    </tr>\n",
       "    <tr>\n",
       "      <th>3</th>\n",
       "      <td>NaN</td>\n",
       "      <td>NaN</td>\n",
       "      <td>140000</td>\n",
       "    </tr>\n",
       "  </tbody>\n",
       "</table>\n",
       "</div>"
      ]
     },
     "execution_count": 3,
     "metadata": {},
     "output_type": "execute_result"
    }
   ],
   "execution_count": 3
  },
  {
   "metadata": {
    "ExecuteTime": {
     "end_time": "2024-10-14T06:18:53.843151Z",
     "start_time": "2024-10-14T06:18:53.832924Z"
    }
   },
   "cell_type": "code",
   "source": [
    "# 缺失值处理\n",
    "# 法一: 插值\n",
    "inputs, outputs = data.iloc[:, 0:2], data.iloc[:, 2]  # i_loc:index of location\n",
    "inputs = inputs.fillna(inputs.mean(numeric_only=True))\n",
    "inputs"
   ],
   "id": "a3fb8ae41423657c",
   "outputs": [
    {
     "data": {
      "text/plain": [
       "   NumRooms Alley\n",
       "0       3.0  Pave\n",
       "1       2.0   NaN\n",
       "2       4.0   NaN\n",
       "3       3.0   NaN"
      ],
      "text/html": [
       "<div>\n",
       "<style scoped>\n",
       "    .dataframe tbody tr th:only-of-type {\n",
       "        vertical-align: middle;\n",
       "    }\n",
       "\n",
       "    .dataframe tbody tr th {\n",
       "        vertical-align: top;\n",
       "    }\n",
       "\n",
       "    .dataframe thead th {\n",
       "        text-align: right;\n",
       "    }\n",
       "</style>\n",
       "<table border=\"1\" class=\"dataframe\">\n",
       "  <thead>\n",
       "    <tr style=\"text-align: right;\">\n",
       "      <th></th>\n",
       "      <th>NumRooms</th>\n",
       "      <th>Alley</th>\n",
       "    </tr>\n",
       "  </thead>\n",
       "  <tbody>\n",
       "    <tr>\n",
       "      <th>0</th>\n",
       "      <td>3.0</td>\n",
       "      <td>Pave</td>\n",
       "    </tr>\n",
       "    <tr>\n",
       "      <th>1</th>\n",
       "      <td>2.0</td>\n",
       "      <td>NaN</td>\n",
       "    </tr>\n",
       "    <tr>\n",
       "      <th>2</th>\n",
       "      <td>4.0</td>\n",
       "      <td>NaN</td>\n",
       "    </tr>\n",
       "    <tr>\n",
       "      <th>3</th>\n",
       "      <td>3.0</td>\n",
       "      <td>NaN</td>\n",
       "    </tr>\n",
       "  </tbody>\n",
       "</table>\n",
       "</div>"
      ]
     },
     "execution_count": 4,
     "metadata": {},
     "output_type": "execute_result"
    }
   ],
   "execution_count": 4
  },
  {
   "metadata": {
    "ExecuteTime": {
     "end_time": "2024-10-14T06:18:53.858079Z",
     "start_time": "2024-10-14T06:18:53.845505Z"
    }
   },
   "cell_type": "code",
   "source": [
    "# 对于inputs中的类别值或离散值, 将\"NaN\"视为新的一个类别\n",
    "# get_dummies将类别值转换为0/1类别, dummy_na=True表示将\"NaN\"视为一个新类别\n",
    "# 类型拆分为: 类型_标签1, 类型_标签2, ..., 类型_nan, 均为0/1变量\n",
    "inputs_old_v = pd.get_dummies(inputs, dummy_na=True)\n",
    "inputs = pd.get_dummies(inputs, dummy_na=True, dtype=int)\n",
    "# 要指定dtype=int, 不然该版本默认都是True/False\n",
    "inputs_old_v, inputs"
   ],
   "id": "f3a5591d83fccfcd",
   "outputs": [
    {
     "data": {
      "text/plain": [
       "(   NumRooms  Alley_Pave  Alley_nan\n",
       " 0       3.0        True      False\n",
       " 1       2.0       False       True\n",
       " 2       4.0       False       True\n",
       " 3       3.0       False       True,\n",
       "    NumRooms  Alley_Pave  Alley_nan\n",
       " 0       3.0           1          0\n",
       " 1       2.0           0          1\n",
       " 2       4.0           0          1\n",
       " 3       3.0           0          1)"
      ]
     },
     "execution_count": 5,
     "metadata": {},
     "output_type": "execute_result"
    }
   ],
   "execution_count": 5
  },
  {
   "metadata": {
    "ExecuteTime": {
     "end_time": "2024-10-14T06:18:53.866563Z",
     "start_time": "2024-10-14T06:18:53.859603Z"
    }
   },
   "cell_type": "code",
   "source": "print(inputs)",
   "id": "4b9a657717866d5a",
   "outputs": [
    {
     "name": "stdout",
     "output_type": "stream",
     "text": [
      "   NumRooms  Alley_Pave  Alley_nan\n",
      "0       3.0           1          0\n",
      "1       2.0           0          1\n",
      "2       4.0           0          1\n",
      "3       3.0           0          1\n"
     ]
    }
   ],
   "execution_count": 6
  },
  {
   "metadata": {
    "ExecuteTime": {
     "end_time": "2024-10-14T06:18:55.301783Z",
     "start_time": "2024-10-14T06:18:53.868299Z"
    }
   },
   "cell_type": "code",
   "source": [
    "# ok,现在in和out所有数据都是数字, 可以转tensor了\n",
    "import torch\n",
    "\n",
    "X, Y = torch.tensor(inputs.values), torch.tensor(outputs.values)\n",
    "X, Y"
   ],
   "id": "8f9522ab13b81c4d",
   "outputs": [
    {
     "data": {
      "text/plain": [
       "(tensor([[3., 1., 0.],\n",
       "         [2., 0., 1.],\n",
       "         [4., 0., 1.],\n",
       "         [3., 0., 1.]], dtype=torch.float64),\n",
       " tensor([127500, 106000, 178100, 140000]))"
      ]
     },
     "execution_count": 7,
     "metadata": {},
     "output_type": "execute_result"
    }
   ],
   "execution_count": 7
  },
  {
   "metadata": {},
   "cell_type": "markdown",
   "source": [
    "\n",
    "---\n"
   ],
   "id": "1277f38a74d814a4"
  },
  {
   "metadata": {
    "ExecuteTime": {
     "end_time": "2024-10-14T06:18:55.307640Z",
     "start_time": "2024-10-14T06:18:55.303757Z"
    }
   },
   "cell_type": "code",
   "source": "",
   "id": "d0531aaf78d694a9",
   "outputs": [],
   "execution_count": 7
  }
 ],
 "metadata": {
  "kernelspec": {
   "display_name": "Python 3",
   "language": "python",
   "name": "python3"
  },
  "language_info": {
   "codemirror_mode": {
    "name": "ipython",
    "version": 2
   },
   "file_extension": ".py",
   "mimetype": "text/x-python",
   "name": "python",
   "nbconvert_exporter": "python",
   "pygments_lexer": "ipython2",
   "version": "2.7.6"
  }
 },
 "nbformat": 4,
 "nbformat_minor": 5
}
