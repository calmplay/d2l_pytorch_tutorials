{
 "cells": [
  {
   "metadata": {},
   "cell_type": "markdown",
   "source": "### 向量",
   "id": "cf3bec61ba7a24bc"
  },
  {
   "cell_type": "code",
   "id": "initial_id",
   "metadata": {
    "collapsed": true,
    "ExecuteTime": {
     "end_time": "2024-10-14T06:19:03.012330Z",
     "start_time": "2024-10-14T06:19:01.474904Z"
    }
   },
   "source": [
    "import torch\n",
    "\n",
    "# 向量(1-d)\n",
    "x = torch.tensor([3.0])\n",
    "y = torch.tensor([2.0])\n",
    "x + y, x * y, x / y, x ** y"
   ],
   "outputs": [
    {
     "data": {
      "text/plain": [
       "(tensor([5.]), tensor([6.]), tensor([1.5000]), tensor([9.]))"
      ]
     },
     "execution_count": 1,
     "metadata": {},
     "output_type": "execute_result"
    }
   ],
   "execution_count": 1
  },
  {
   "metadata": {
    "ExecuteTime": {
     "end_time": "2024-10-14T06:19:03.021784Z",
     "start_time": "2024-10-14T06:19:03.015184Z"
    }
   },
   "cell_type": "code",
   "source": [
    "# 注意,单值的向量与标量区分!!\n",
    "x_0d = torch.tensor(3.0)  # 0-d tensor 这是一个标量\n",
    "x_0d.shape, x.shape, x_0d.shape == x.shape, x_0d == x"
   ],
   "id": "a7a36aab367a5c1c",
   "outputs": [
    {
     "data": {
      "text/plain": [
       "(torch.Size([]), torch.Size([1]), False, tensor([True]))"
      ]
     },
     "execution_count": 2,
     "metadata": {},
     "output_type": "execute_result"
    }
   ],
   "execution_count": 2
  },
  {
   "metadata": {
    "ExecuteTime": {
     "end_time": "2024-10-14T06:19:03.030328Z",
     "start_time": "2024-10-14T06:19:03.023249Z"
    }
   },
   "cell_type": "code",
   "source": [
    "# torch.arange() Returns a 1-D tensor\n",
    "x = torch.arange(4)\n",
    "x"
   ],
   "id": "ee268993a3c2b520",
   "outputs": [
    {
     "data": {
      "text/plain": [
       "tensor([0, 1, 2, 3])"
      ]
     },
     "execution_count": 3,
     "metadata": {},
     "output_type": "execute_result"
    }
   ],
   "execution_count": 3
  },
  {
   "metadata": {
    "ExecuteTime": {
     "end_time": "2024-10-14T06:19:03.039785Z",
     "start_time": "2024-10-14T06:19:03.033393Z"
    }
   },
   "cell_type": "code",
   "source": "x[3], x[3].shape  # 通过索引访问,1-d向量的元素是一个标量",
   "id": "9e503fb04403176",
   "outputs": [
    {
     "data": {
      "text/plain": [
       "(tensor(3), torch.Size([]))"
      ]
     },
     "execution_count": 4,
     "metadata": {},
     "output_type": "execute_result"
    }
   ],
   "execution_count": 4
  },
  {
   "metadata": {
    "ExecuteTime": {
     "end_time": "2024-10-14T06:19:03.047272Z",
     "start_time": "2024-10-14T06:19:03.041269Z"
    }
   },
   "cell_type": "code",
   "source": [
    "len(x), x.shape\n",
    "# 注意,如果x=torch.tensor(3.0), 就会报错:TypeError: len() of a 0-d tensor"
   ],
   "id": "700219f975d83dec",
   "outputs": [
    {
     "data": {
      "text/plain": [
       "(4, torch.Size([4]))"
      ]
     },
     "execution_count": 5,
     "metadata": {},
     "output_type": "execute_result"
    }
   ],
   "execution_count": 5
  },
  {
   "metadata": {},
   "cell_type": "markdown",
   "source": [
    "---\n",
    "### 矩阵"
   ],
   "id": "709126add53f48ce"
  },
  {
   "metadata": {
    "ExecuteTime": {
     "end_time": "2024-10-14T06:19:03.060475Z",
     "start_time": "2024-10-14T06:19:03.048763Z"
    }
   },
   "cell_type": "code",
   "source": [
    "# 矩阵\n",
    "A = torch.arange(20).reshape(5, 4)\n",
    "A"
   ],
   "id": "96f291212f6bc193",
   "outputs": [
    {
     "data": {
      "text/plain": [
       "tensor([[ 0,  1,  2,  3],\n",
       "        [ 4,  5,  6,  7],\n",
       "        [ 8,  9, 10, 11],\n",
       "        [12, 13, 14, 15],\n",
       "        [16, 17, 18, 19]])"
      ]
     },
     "execution_count": 6,
     "metadata": {},
     "output_type": "execute_result"
    }
   ],
   "execution_count": 6
  },
  {
   "metadata": {
    "ExecuteTime": {
     "end_time": "2024-10-14T06:19:03.069012Z",
     "start_time": "2024-10-14T06:19:03.062202Z"
    }
   },
   "cell_type": "code",
   "source": "A.T  # 转置",
   "id": "f46909d81d10036b",
   "outputs": [
    {
     "data": {
      "text/plain": [
       "tensor([[ 0,  4,  8, 12, 16],\n",
       "        [ 1,  5,  9, 13, 17],\n",
       "        [ 2,  6, 10, 14, 18],\n",
       "        [ 3,  7, 11, 15, 19]])"
      ]
     },
     "execution_count": 7,
     "metadata": {},
     "output_type": "execute_result"
    }
   ],
   "execution_count": 7
  },
  {
   "metadata": {
    "ExecuteTime": {
     "end_time": "2024-10-14T06:19:03.077929Z",
     "start_time": "2024-10-14T06:19:03.070700Z"
    }
   },
   "cell_type": "code",
   "source": [
    "X = torch.arange(24).reshape(2, 3, 4)  # 3-d tensor 3个轴\n",
    "X"
   ],
   "id": "765096b02e96947b",
   "outputs": [
    {
     "data": {
      "text/plain": [
       "tensor([[[ 0,  1,  2,  3],\n",
       "         [ 4,  5,  6,  7],\n",
       "         [ 8,  9, 10, 11]],\n",
       "\n",
       "        [[12, 13, 14, 15],\n",
       "         [16, 17, 18, 19],\n",
       "         [20, 21, 22, 23]]])"
      ]
     },
     "execution_count": 8,
     "metadata": {},
     "output_type": "execute_result"
    }
   ],
   "execution_count": 8
  },
  {
   "metadata": {
    "ExecuteTime": {
     "end_time": "2024-10-14T06:19:03.088234Z",
     "start_time": "2024-10-14T06:19:03.079948Z"
    }
   },
   "cell_type": "code",
   "source": [
    "A = torch.arange(20, dtype=torch.float32).reshape(5, 4)\n",
    "B = A.clone()  # 通过分配新内存创建一个张量\n",
    "A, A + B"
   ],
   "id": "bc5c9f714cd4b4c8",
   "outputs": [
    {
     "data": {
      "text/plain": [
       "(tensor([[ 0.,  1.,  2.,  3.],\n",
       "         [ 4.,  5.,  6.,  7.],\n",
       "         [ 8.,  9., 10., 11.],\n",
       "         [12., 13., 14., 15.],\n",
       "         [16., 17., 18., 19.]]),\n",
       " tensor([[ 0.,  2.,  4.,  6.],\n",
       "         [ 8., 10., 12., 14.],\n",
       "         [16., 18., 20., 22.],\n",
       "         [24., 26., 28., 30.],\n",
       "         [32., 34., 36., 38.]]))"
      ]
     },
     "execution_count": 9,
     "metadata": {},
     "output_type": "execute_result"
    }
   ],
   "execution_count": 9
  },
  {
   "metadata": {
    "ExecuteTime": {
     "end_time": "2024-10-14T06:19:03.099283Z",
     "start_time": "2024-10-14T06:19:03.092724Z"
    }
   },
   "cell_type": "code",
   "source": [
    "# 矩阵按元素乘法\n",
    "A * B, (A * B).shape"
   ],
   "id": "474382036f9be47e",
   "outputs": [
    {
     "data": {
      "text/plain": [
       "(tensor([[  0.,   1.,   4.,   9.],\n",
       "         [ 16.,  25.,  36.,  49.],\n",
       "         [ 64.,  81., 100., 121.],\n",
       "         [144., 169., 196., 225.],\n",
       "         [256., 289., 324., 361.]]),\n",
       " torch.Size([5, 4]))"
      ]
     },
     "execution_count": 10,
     "metadata": {},
     "output_type": "execute_result"
    }
   ],
   "execution_count": 10
  },
  {
   "metadata": {},
   "cell_type": "markdown",
   "source": "↑ 哈达玛积(Hadamard product) (i.e.点乘, 数学符号: $\\odot$)",
   "id": "4b1fbcc710003b1a"
  },
  {
   "metadata": {
    "ExecuteTime": {
     "end_time": "2024-10-14T06:19:03.108775Z",
     "start_time": "2024-10-14T06:19:03.101092Z"
    }
   },
   "cell_type": "code",
   "source": [
    "# 数乘\n",
    "2 * A, (2 * A).shape"
   ],
   "id": "9c6c97b12cc73f85",
   "outputs": [
    {
     "data": {
      "text/plain": [
       "(tensor([[ 0.,  2.,  4.,  6.],\n",
       "         [ 8., 10., 12., 14.],\n",
       "         [16., 18., 20., 22.],\n",
       "         [24., 26., 28., 30.],\n",
       "         [32., 34., 36., 38.]]),\n",
       " torch.Size([5, 4]))"
      ]
     },
     "execution_count": 11,
     "metadata": {},
     "output_type": "execute_result"
    }
   ],
   "execution_count": 11
  },
  {
   "metadata": {
    "ExecuteTime": {
     "end_time": "2024-10-14T06:19:03.119513Z",
     "start_time": "2024-10-14T06:19:03.110992Z"
    }
   },
   "cell_type": "code",
   "source": [
    "# 元素的和 (=所有标量元素的和, 不论shape)\n",
    "x = torch.arange(4, dtype=torch.float32)\n",
    "x, x.sum()"
   ],
   "id": "f02dd1afc094a1cf",
   "outputs": [
    {
     "data": {
      "text/plain": [
       "(tensor([0., 1., 2., 3.]), tensor(6.))"
      ]
     },
     "execution_count": 12,
     "metadata": {},
     "output_type": "execute_result"
    }
   ],
   "execution_count": 12
  },
  {
   "metadata": {
    "ExecuteTime": {
     "end_time": "2024-10-14T06:19:03.132606Z",
     "start_time": "2024-10-14T06:19:03.121574Z"
    }
   },
   "cell_type": "code",
   "source": [
    "# 指定轴求和\n",
    "C = torch.arange(24, dtype=torch.float32).reshape(2, 3, 4)\n",
    "C_sum_axis0 = C.sum(axis=0)\n",
    "C, C_sum_axis0, C_sum_axis0.shape"
   ],
   "id": "557fec94f3398547",
   "outputs": [
    {
     "data": {
      "text/plain": [
       "(tensor([[[ 0.,  1.,  2.,  3.],\n",
       "          [ 4.,  5.,  6.,  7.],\n",
       "          [ 8.,  9., 10., 11.]],\n",
       " \n",
       "         [[12., 13., 14., 15.],\n",
       "          [16., 17., 18., 19.],\n",
       "          [20., 21., 22., 23.]]]),\n",
       " tensor([[12., 14., 16., 18.],\n",
       "         [20., 22., 24., 26.],\n",
       "         [28., 30., 32., 34.]]),\n",
       " torch.Size([3, 4]))"
      ]
     },
     "execution_count": 13,
     "metadata": {},
     "output_type": "execute_result"
    }
   ],
   "execution_count": 13
  },
  {
   "metadata": {
    "ExecuteTime": {
     "end_time": "2024-10-14T06:19:03.144713Z",
     "start_time": "2024-10-14T06:19:03.134807Z"
    }
   },
   "cell_type": "code",
   "source": [
    "C_sum_axis1 = C.sum(axis=1)\n",
    "C, C_sum_axis1, C_sum_axis1.shape"
   ],
   "id": "6da0491c5ec73f3",
   "outputs": [
    {
     "data": {
      "text/plain": [
       "(tensor([[[ 0.,  1.,  2.,  3.],\n",
       "          [ 4.,  5.,  6.,  7.],\n",
       "          [ 8.,  9., 10., 11.]],\n",
       " \n",
       "         [[12., 13., 14., 15.],\n",
       "          [16., 17., 18., 19.],\n",
       "          [20., 21., 22., 23.]]]),\n",
       " tensor([[12., 15., 18., 21.],\n",
       "         [48., 51., 54., 57.]]),\n",
       " torch.Size([2, 4]))"
      ]
     },
     "execution_count": 14,
     "metadata": {},
     "output_type": "execute_result"
    }
   ],
   "execution_count": 14
  },
  {
   "metadata": {
    "ExecuteTime": {
     "end_time": "2024-10-14T06:19:03.156830Z",
     "start_time": "2024-10-14T06:19:03.146997Z"
    }
   },
   "cell_type": "code",
   "source": [
    "C_sum_axis2 = C.sum(axis=2)\n",
    "C, C_sum_axis2, C_sum_axis2.shape"
   ],
   "id": "233d76258185ae87",
   "outputs": [
    {
     "data": {
      "text/plain": [
       "(tensor([[[ 0.,  1.,  2.,  3.],\n",
       "          [ 4.,  5.,  6.,  7.],\n",
       "          [ 8.,  9., 10., 11.]],\n",
       " \n",
       "         [[12., 13., 14., 15.],\n",
       "          [16., 17., 18., 19.],\n",
       "          [20., 21., 22., 23.]]]),\n",
       " tensor([[ 6., 22., 38.],\n",
       "         [54., 70., 86.]]),\n",
       " torch.Size([2, 3]))"
      ]
     },
     "execution_count": 15,
     "metadata": {},
     "output_type": "execute_result"
    }
   ],
   "execution_count": 15
  },
  {
   "metadata": {
    "ExecuteTime": {
     "end_time": "2024-10-14T06:19:03.167583Z",
     "start_time": "2024-10-14T06:19:03.158909Z"
    }
   },
   "cell_type": "code",
   "source": [
    "# 均值, 压缩某个轴的均值\n",
    "C.mean(), C.mean(axis=0), C.mean(axis=0).shape"
   ],
   "id": "2ae4ba397c49fa38",
   "outputs": [
    {
     "data": {
      "text/plain": [
       "(tensor(11.5000),\n",
       " tensor([[ 6.,  7.,  8.,  9.],\n",
       "         [10., 11., 12., 13.],\n",
       "         [14., 15., 16., 17.]]),\n",
       " torch.Size([3, 4]))"
      ]
     },
     "execution_count": 16,
     "metadata": {},
     "output_type": "execute_result"
    }
   ],
   "execution_count": 16
  },
  {
   "metadata": {
    "ExecuteTime": {
     "end_time": "2024-10-14T06:19:03.177784Z",
     "start_time": "2024-10-14T06:19:03.169404Z"
    }
   },
   "cell_type": "code",
   "source": [
    "# 计算聚合时,保持轴数不变\n",
    "sum_C = C.sum(axis=0, keepdims=True)  # d-0不丢掉,但是只有1组\n",
    "C, C_sum_axis0, C_sum_axis0.shape, sum_C, sum_C.shape\n",
    "# 这里对比一下保留与不保留"
   ],
   "id": "1d460a12c0ba4ada",
   "outputs": [
    {
     "data": {
      "text/plain": [
       "(tensor([[[ 0.,  1.,  2.,  3.],\n",
       "          [ 4.,  5.,  6.,  7.],\n",
       "          [ 8.,  9., 10., 11.]],\n",
       " \n",
       "         [[12., 13., 14., 15.],\n",
       "          [16., 17., 18., 19.],\n",
       "          [20., 21., 22., 23.]]]),\n",
       " tensor([[12., 14., 16., 18.],\n",
       "         [20., 22., 24., 26.],\n",
       "         [28., 30., 32., 34.]]),\n",
       " torch.Size([3, 4]),\n",
       " tensor([[[12., 14., 16., 18.],\n",
       "          [20., 22., 24., 26.],\n",
       "          [28., 30., 32., 34.]]]),\n",
       " torch.Size([1, 3, 4]))"
      ]
     },
     "execution_count": 17,
     "metadata": {},
     "output_type": "execute_result"
    }
   ],
   "execution_count": 17
  },
  {
   "metadata": {
    "ExecuteTime": {
     "end_time": "2024-10-14T06:19:03.186765Z",
     "start_time": "2024-10-14T06:19:03.179685Z"
    }
   },
   "cell_type": "code",
   "source": [
    "# 然后可以利用广播机制, C/sum_C\n",
    "C / sum_C  # 维度数必须相同, 某一个维度的size不同就会自动\"广播\"复制"
   ],
   "id": "515f5d5e2e0eae8f",
   "outputs": [
    {
     "data": {
      "text/plain": [
       "tensor([[[0.0000, 0.0714, 0.1250, 0.1667],\n",
       "         [0.2000, 0.2273, 0.2500, 0.2692],\n",
       "         [0.2857, 0.3000, 0.3125, 0.3235]],\n",
       "\n",
       "        [[1.0000, 0.9286, 0.8750, 0.8333],\n",
       "         [0.8000, 0.7727, 0.7500, 0.7308],\n",
       "         [0.7143, 0.7000, 0.6875, 0.6765]]])"
      ]
     },
     "execution_count": 18,
     "metadata": {},
     "output_type": "execute_result"
    }
   ],
   "execution_count": 18
  },
  {
   "metadata": {
    "ExecuteTime": {
     "end_time": "2024-10-14T06:19:03.196370Z",
     "start_time": "2024-10-14T06:19:03.188593Z"
    }
   },
   "cell_type": "code",
   "source": [
    "# 累加求和\n",
    "C, C.cumsum(axis=0)"
   ],
   "id": "2cf5a8d37b92a460",
   "outputs": [
    {
     "data": {
      "text/plain": [
       "(tensor([[[ 0.,  1.,  2.,  3.],\n",
       "          [ 4.,  5.,  6.,  7.],\n",
       "          [ 8.,  9., 10., 11.]],\n",
       " \n",
       "         [[12., 13., 14., 15.],\n",
       "          [16., 17., 18., 19.],\n",
       "          [20., 21., 22., 23.]]]),\n",
       " tensor([[[ 0.,  1.,  2.,  3.],\n",
       "          [ 4.,  5.,  6.,  7.],\n",
       "          [ 8.,  9., 10., 11.]],\n",
       " \n",
       "         [[12., 14., 16., 18.],\n",
       "          [20., 22., 24., 26.],\n",
       "          [28., 30., 32., 34.]]]))"
      ]
     },
     "execution_count": 19,
     "metadata": {},
     "output_type": "execute_result"
    }
   ],
   "execution_count": 19
  },
  {
   "metadata": {
    "ExecuteTime": {
     "end_time": "2024-10-14T06:19:03.209827Z",
     "start_time": "2024-10-14T06:19:03.198133Z"
    }
   },
   "cell_type": "code",
   "source": [
    "# 点积 = 按元素乘积的和\n",
    "x = torch.arange(4, dtype=torch.float32)\n",
    "y = torch.ones(4, dtype=torch.float32)\n",
    "x, y, x * y, torch.dot(x, y), (x * y).sum()\n",
    "# torch.dot(x,y)<=>(x*y).sum()"
   ],
   "id": "182b6a39446b48dd",
   "outputs": [
    {
     "data": {
      "text/plain": [
       "(tensor([0., 1., 2., 3.]),\n",
       " tensor([1., 1., 1., 1.]),\n",
       " tensor([0., 1., 2., 3.]),\n",
       " tensor(6.),\n",
       " tensor(6.))"
      ]
     },
     "execution_count": 20,
     "metadata": {},
     "output_type": "execute_result"
    }
   ],
   "execution_count": 20
  },
  {
   "metadata": {
    "ExecuteTime": {
     "end_time": "2024-10-14T06:19:03.219871Z",
     "start_time": "2024-10-14T06:19:03.211960Z"
    }
   },
   "cell_type": "code",
   "source": [
    "# 矩阵*向量 => 一个列向量\n",
    "A.shape, x.shape, torch.mv(A, x)"
   ],
   "id": "dc08e8f4d3122f39",
   "outputs": [
    {
     "data": {
      "text/plain": [
       "(torch.Size([5, 4]), torch.Size([4]), tensor([ 14.,  38.,  62.,  86., 110.]))"
      ]
     },
     "execution_count": 21,
     "metadata": {},
     "output_type": "execute_result"
    }
   ],
   "execution_count": 21
  },
  {
   "metadata": {
    "ExecuteTime": {
     "end_time": "2024-10-14T06:19:03.233546Z",
     "start_time": "2024-10-14T06:19:03.222060Z"
    }
   },
   "cell_type": "code",
   "source": [
    "# 矩阵乘法 (matrix multiplication)\n",
    "# 可以看作是多次的 矩阵*向量, 然后将各个结果(列向量)拼接在一起\n",
    "B = torch.ones(4, 3)\n",
    "A, torch.mm(A, B)  # (5,4)*(4,3) => (5,3)"
   ],
   "id": "92919c4389064a52",
   "outputs": [
    {
     "data": {
      "text/plain": [
       "(tensor([[ 0.,  1.,  2.,  3.],\n",
       "         [ 4.,  5.,  6.,  7.],\n",
       "         [ 8.,  9., 10., 11.],\n",
       "         [12., 13., 14., 15.],\n",
       "         [16., 17., 18., 19.]]),\n",
       " tensor([[ 6.,  6.,  6.],\n",
       "         [22., 22., 22.],\n",
       "         [38., 38., 38.],\n",
       "         [54., 54., 54.],\n",
       "         [70., 70., 70.]]))"
      ]
     },
     "execution_count": 22,
     "metadata": {},
     "output_type": "execute_result"
    }
   ],
   "execution_count": 22
  },
  {
   "metadata": {},
   "cell_type": "markdown",
   "source": [
    "---\n",
    "### 范数\n",
    "$$\n",
    "\\begin{flalign*}\n",
    "&L_0范数 = 非零元素的个数&\\\\\n",
    "&L_p范数 = \\sqrt[p]{\\sum |x_i|^p}\\\\\n",
    "&L_{无穷} = 最大元素的绝对值\\\\\n",
    "\\end{flalign*}\n",
    "$$"
   ],
   "id": "98c01ee3350c1b94"
  },
  {
   "metadata": {
    "ExecuteTime": {
     "end_time": "2024-10-14T06:19:03.260061Z",
     "start_time": "2024-10-14T06:19:03.235902Z"
    }
   },
   "cell_type": "code",
   "source": [
    "u = torch.arange(12, dtype=torch.float32).reshape(2, 2, 3)\n",
    "l0 = u.norm(p=0)  # L0范数 = 非零元素的个数\n",
    "l1 = u.norm(p=1)\n",
    "l2 = u.norm(p=2)\n",
    "l3 = u.norm(p=3)\n",
    "l4 = u.norm(p=4)\n",
    "l5 = u.norm(p=5)\n",
    "l6 = u.norm(p=6)\n",
    "l7 = u.norm(p=7)\n",
    "l8 = u.norm(p=8)\n",
    "l9 = u.norm(p=9)\n",
    "l10 = u.norm(p=10)\n",
    "l11 = u.norm(p=11)\n",
    "l12 = u.norm(p=12)\n",
    "l13 = u.norm(p=13)\n",
    "l14 = u.norm(p=14)\n",
    "l15 = u.norm(p=15)\n",
    "l16 = u.norm(p=16)\n",
    "l17 = u.norm(p=17)\n",
    "l18 = u.norm(p=18)\n",
    "l19 = u.norm(p=19)\n",
    "l20 = u.norm(p=20)  # -> abs(u).max()\n",
    "u, l0, l1, l2, l3, l4, l5, l6, l7, l8, l9, l10, l11, l12, l13, l14, l15, l16, l17, l18, l19, l20, u.norm()\n",
    "# norm()默认p=2, L2范数就是最常用的,i.e.F范数(Frobenius norm)"
   ],
   "id": "d49c66f486fe1bcb",
   "outputs": [
    {
     "data": {
      "text/plain": [
       "(tensor([[[ 0.,  1.,  2.],\n",
       "          [ 3.,  4.,  5.]],\n",
       " \n",
       "         [[ 6.,  7.,  8.],\n",
       "          [ 9., 10., 11.]]]),\n",
       " tensor(11.),\n",
       " tensor(66.),\n",
       " tensor(22.4944),\n",
       " tensor(16.3316),\n",
       " tensor(14.1398),\n",
       " tensor(13.0733),\n",
       " tensor(12.4644),\n",
       " tensor(12.0814),\n",
       " tensor(11.8242),\n",
       " tensor(11.6432),\n",
       " tensor(11.5112),\n",
       " tensor(11.4123),\n",
       " tensor(11.3366),\n",
       " tensor(11.2775),\n",
       " tensor(11.2307),\n",
       " tensor(11.1932),\n",
       " tensor(11.1627),\n",
       " tensor(11.1378),\n",
       " tensor(11.1173),\n",
       " tensor(11.1003),\n",
       " tensor(11.0860),\n",
       " tensor(22.4944))"
      ]
     },
     "execution_count": 23,
     "metadata": {},
     "output_type": "execute_result"
    }
   ],
   "execution_count": 23
  }
 ],
 "metadata": {
  "kernelspec": {
   "display_name": "Python 3",
   "language": "python",
   "name": "python3"
  },
  "language_info": {
   "codemirror_mode": {
    "name": "ipython",
    "version": 2
   },
   "file_extension": ".py",
   "mimetype": "text/x-python",
   "name": "python",
   "nbconvert_exporter": "python",
   "pygments_lexer": "ipython2",
   "version": "2.7.6"
  }
 },
 "nbformat": 4,
 "nbformat_minor": 5
}
