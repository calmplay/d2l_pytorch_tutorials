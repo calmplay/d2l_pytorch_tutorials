{
 "cells": [
  {
   "cell_type": "code",
   "id": "initial_id",
   "metadata": {
    "collapsed": true,
    "ExecuteTime": {
     "end_time": "2024-10-14T06:29:27.339746Z",
     "start_time": "2024-10-14T06:29:25.703959Z"
    }
   },
   "source": [
    "import torch\n",
    "from torch import nn\n",
    "\n",
    "torch.device('cpu'), torch.cuda.device('cuda'), torch.cuda.device('cuda:1')  # 多个GPU"
   ],
   "outputs": [
    {
     "data": {
      "text/plain": [
       "(device(type='cpu'),\n",
       " <torch.cuda.device at 0x78f041f8b4f0>,\n",
       " <torch.cuda.device at 0x78f041f03100>)"
      ]
     },
     "execution_count": 1,
     "metadata": {},
     "output_type": "execute_result"
    }
   ],
   "execution_count": 1
  },
  {
   "metadata": {
    "ExecuteTime": {
     "end_time": "2024-10-14T06:29:27.347402Z",
     "start_time": "2024-10-14T06:29:27.342066Z"
    }
   },
   "cell_type": "code",
   "source": [
    "# 查看可用的GPU数量\n",
    "torch.cuda.device_count()"
   ],
   "id": "986fea86b628383e",
   "outputs": [
    {
     "data": {
      "text/plain": [
       "3"
      ]
     },
     "execution_count": 2,
     "metadata": {},
     "output_type": "execute_result"
    }
   ],
   "execution_count": 2
  },
  {
   "metadata": {
    "ExecuteTime": {
     "end_time": "2024-10-14T06:29:27.354843Z",
     "start_time": "2024-10-14T06:29:27.349140Z"
    }
   },
   "cell_type": "code",
   "source": [
    "# 查看默认的GPU的索引\n",
    "# torch.cuda.current_device()"
   ],
   "id": "141904807616fea6",
   "outputs": [],
   "execution_count": 3
  },
  {
   "metadata": {
    "ExecuteTime": {
     "end_time": "2024-10-14T06:29:27.362522Z",
     "start_time": "2024-10-14T06:29:27.357538Z"
    }
   },
   "cell_type": "code",
   "source": [
    "# 查看GPU的名字\n",
    "# torch.cuda.get_device_name(0)"
   ],
   "id": "7238f8f5302bacfd",
   "outputs": [],
   "execution_count": 4
  },
  {
   "metadata": {
    "ExecuteTime": {
     "end_time": "2024-10-14T06:29:27.373229Z",
     "start_time": "2024-10-14T06:29:27.364083Z"
    }
   },
   "cell_type": "code",
   "source": [
    "# 在GPU不存在时,仍可运行代码\n",
    "def try_gpu(i=0):\n",
    "    \"\"\"如果存在,返回gpu(i),否则返回cpu()\"\"\"\n",
    "    if torch.cuda.device_count() >= i + 1:\n",
    "        return torch.device(f'cuda:{i}')\n",
    "    elif torch.backends.mps.is_available():\n",
    "        return torch.device('mps')\n",
    "    return torch.device('cpu')\n",
    "\n",
    "\n",
    "def try_all_gpus():\n",
    "    \"\"\"返回所有可用的GPU,如果没有GPU，返回[cpu(),]\"\"\"\n",
    "    devices = [torch.device(f'cuda:{i}') for i in range(torch.cuda.device_count())]\n",
    "    return devices if devices else [\n",
    "        \"mps\" if torch.backends.mps.is_available() else torch.device('cpu')]\n",
    "\n",
    "\n",
    "try_gpu(), try_gpu(10), try_all_gpus()"
   ],
   "id": "771d710b572dd665",
   "outputs": [
    {
     "data": {
      "text/plain": [
       "(device(type='cuda', index=0),\n",
       " device(type='cpu'),\n",
       " [device(type='cuda', index=0),\n",
       "  device(type='cuda', index=1),\n",
       "  device(type='cuda', index=2)])"
      ]
     },
     "execution_count": 5,
     "metadata": {},
     "output_type": "execute_result"
    }
   ],
   "execution_count": 5
  },
  {
   "metadata": {
    "ExecuteTime": {
     "end_time": "2024-10-14T06:29:27.382366Z",
     "start_time": "2024-10-14T06:29:27.374667Z"
    }
   },
   "cell_type": "code",
   "source": [
    "# 查询tensor所在的设备\n",
    "x = torch.tensor([1, 2, 3])\n",
    "x.device"
   ],
   "id": "37bf2f6ef2c68a16",
   "outputs": [
    {
     "data": {
      "text/plain": [
       "device(type='cpu')"
      ]
     },
     "execution_count": 6,
     "metadata": {},
     "output_type": "execute_result"
    }
   ],
   "execution_count": 6
  },
  {
   "metadata": {
    "ExecuteTime": {
     "end_time": "2024-10-14T06:29:27.825186Z",
     "start_time": "2024-10-14T06:29:27.383884Z"
    }
   },
   "cell_type": "code",
   "source": [
    "# 将tensor移动到GPU或mps\n",
    "X = torch.ones(2, 3, device=try_gpu())\n",
    "X"
   ],
   "id": "c94cfef4dd897302",
   "outputs": [
    {
     "data": {
      "text/plain": [
       "tensor([[1., 1., 1.],\n",
       "        [1., 1., 1.]], device='cuda:0')"
      ]
     },
     "execution_count": 7,
     "metadata": {},
     "output_type": "execute_result"
    }
   ],
   "execution_count": 7
  },
  {
   "metadata": {
    "ExecuteTime": {
     "end_time": "2024-10-14T06:29:27.833778Z",
     "start_time": "2024-10-14T06:29:27.827166Z"
    }
   },
   "cell_type": "code",
   "source": [
    "Y = torch.rand(2, 3)\n",
    "Y, Y.device  # 默认是在cpu"
   ],
   "id": "9e9e18b28b8a255c",
   "outputs": [
    {
     "data": {
      "text/plain": [
       "(tensor([[0.8148, 0.8425, 0.2105],\n",
       "         [0.0430, 0.4442, 0.2502]]),\n",
       " device(type='cpu'))"
      ]
     },
     "execution_count": 8,
     "metadata": {},
     "output_type": "execute_result"
    }
   ],
   "execution_count": 8
  },
  {
   "metadata": {
    "ExecuteTime": {
     "end_time": "2024-10-14T06:29:27.843161Z",
     "start_time": "2024-10-14T06:29:27.835276Z"
    }
   },
   "cell_type": "code",
   "source": [
    "# 决定在哪里执行操作 \n",
    "Z1 = X\n",
    "Z2 = X.cpu()  # 可以.cuda()或.cuda(i)\n",
    "Z3 = X.to(\"cpu\")  # 这两个操作都是等价的\n",
    "Z1, Z2, Z3"
   ],
   "id": "94d635f4cbf7b8a7",
   "outputs": [
    {
     "data": {
      "text/plain": [
       "(tensor([[1., 1., 1.],\n",
       "         [1., 1., 1.]], device='cuda:0'),\n",
       " tensor([[1., 1., 1.],\n",
       "         [1., 1., 1.]]),\n",
       " tensor([[1., 1., 1.],\n",
       "         [1., 1., 1.]]))"
      ]
     },
     "execution_count": 9,
     "metadata": {},
     "output_type": "execute_result"
    }
   ],
   "execution_count": 9
  },
  {
   "metadata": {
    "ExecuteTime": {
     "end_time": "2024-10-14T06:29:27.852205Z",
     "start_time": "2024-10-14T06:29:27.846496Z"
    }
   },
   "cell_type": "code",
   "source": [
    "# 计算X+Y,必须是同一设备\n",
    "# ZZ = Z1+Z2  # error: Expected all tensors to be on the same device\n",
    "ZZ = X.cpu() + Y.cpu()\n",
    "ZZ"
   ],
   "id": "5888f285bf3e0dbf",
   "outputs": [
    {
     "data": {
      "text/plain": [
       "tensor([[1.8148, 1.8425, 1.2105],\n",
       "        [1.0430, 1.4442, 1.2502]])"
      ]
     },
     "execution_count": 10,
     "metadata": {},
     "output_type": "execute_result"
    }
   ],
   "execution_count": 10
  },
  {
   "metadata": {
    "ExecuteTime": {
     "end_time": "2024-10-14T06:29:27.859181Z",
     "start_time": "2024-10-14T06:29:27.853827Z"
    }
   },
   "cell_type": "code",
   "source": [
    "# 如果设备未发生改变,则不会发生clone搬运\n",
    "ZZ.cpu() is ZZ, ZZ.cpu() == ZZ"
   ],
   "id": "421fed309ee36292",
   "outputs": [
    {
     "data": {
      "text/plain": [
       "(True,\n",
       " tensor([[True, True, True],\n",
       "         [True, True, True]]))"
      ]
     },
     "execution_count": 11,
     "metadata": {},
     "output_type": "execute_result"
    }
   ],
   "execution_count": 11
  },
  {
   "metadata": {
    "ExecuteTime": {
     "end_time": "2024-10-14T06:29:27.871017Z",
     "start_time": "2024-10-14T06:29:27.860758Z"
    }
   },
   "cell_type": "code",
   "source": "ZZ.to(\"cpu\") is ZZ, ZZ.to(\"cpu\") == ZZ",
   "id": "3153851462727eed",
   "outputs": [
    {
     "data": {
      "text/plain": [
       "(True,\n",
       " tensor([[True, True, True],\n",
       "         [True, True, True]]))"
      ]
     },
     "execution_count": 12,
     "metadata": {},
     "output_type": "execute_result"
    }
   ],
   "execution_count": 12
  },
  {
   "metadata": {
    "ExecuteTime": {
     "end_time": "2024-10-14T06:29:27.945014Z",
     "start_time": "2024-10-14T06:29:27.872846Z"
    }
   },
   "cell_type": "code",
   "source": [
    "# 神经网络与gpu\n",
    "net = nn.Sequential(nn.Linear(3, 1))\n",
    "net = net.to(device=try_gpu())\n",
    "net(X)"
   ],
   "id": "7b2d6839053e625d",
   "outputs": [
    {
     "data": {
      "text/plain": [
       "tensor([[0.9673],\n",
       "        [0.9673]], device='cuda:0', grad_fn=<AddmmBackward0>)"
      ]
     },
     "execution_count": 13,
     "metadata": {},
     "output_type": "execute_result"
    }
   ],
   "execution_count": 13
  },
  {
   "metadata": {
    "ExecuteTime": {
     "end_time": "2024-10-14T06:29:27.952080Z",
     "start_time": "2024-10-14T06:29:27.946889Z"
    }
   },
   "cell_type": "code",
   "source": [
    "# 确认模型参数存储在同一GPU上\n",
    "net[0].weight.data.device"
   ],
   "id": "ac09b6400c4748c9",
   "outputs": [
    {
     "data": {
      "text/plain": [
       "device(type='cuda', index=0)"
      ]
     },
     "execution_count": 14,
     "metadata": {},
     "output_type": "execute_result"
    }
   ],
   "execution_count": 14
  }
 ],
 "metadata": {
  "kernelspec": {
   "display_name": "Python 3",
   "language": "python",
   "name": "python3"
  },
  "language_info": {
   "codemirror_mode": {
    "name": "ipython",
    "version": 2
   },
   "file_extension": ".py",
   "mimetype": "text/x-python",
   "name": "python",
   "nbconvert_exporter": "python",
   "pygments_lexer": "ipython2",
   "version": "2.7.6"
  }
 },
 "nbformat": 4,
 "nbformat_minor": 5
}
