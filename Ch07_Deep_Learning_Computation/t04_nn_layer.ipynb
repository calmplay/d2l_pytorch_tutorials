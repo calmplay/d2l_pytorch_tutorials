{
 "cells": [
  {
   "cell_type": "code",
   "id": "initial_id",
   "metadata": {
    "collapsed": true,
    "ExecuteTime": {
     "end_time": "2024-10-14T06:28:56.513846Z",
     "start_time": "2024-10-14T06:28:54.993543Z"
    }
   },
   "source": [
    "import torch\n",
    "import torch.nn.functional as F\n",
    "from torch import nn\n",
    "\n",
    "\n",
    "# 自定义层\n",
    "class CenteredLayer(nn.Module):\n",
    "    \"\"\"构造一个没有任何参数的自定义层\"\"\"\n",
    "\n",
    "    def __init__(self):\n",
    "        super().__init__()\n",
    "\n",
    "    def forward(self, x):\n",
    "        return x - x.mean()  # 均值向0偏移\n",
    "\n",
    "\n",
    "layer = CenteredLayer()\n",
    "layer(torch.FloatTensor([1, 2, 3, 4, 5]))"
   ],
   "outputs": [
    {
     "data": {
      "text/plain": [
       "tensor([-2., -1.,  0.,  1.,  2.])"
      ]
     },
     "execution_count": 1,
     "metadata": {},
     "output_type": "execute_result"
    }
   ],
   "execution_count": 1
  },
  {
   "metadata": {
    "ExecuteTime": {
     "end_time": "2024-10-14T06:28:56.523642Z",
     "start_time": "2024-10-14T06:28:56.515931Z"
    }
   },
   "cell_type": "code",
   "source": [
    "# 将层作为组件合并到构建更复杂的模型中\n",
    "l1 = nn.Linear(4, 7)  # 默认初始化w和b为均匀分布~U(-根号1/4,根号1/4)\n",
    "l2 = CenteredLayer()\n",
    "net = nn.Sequential(l1, l2)\n",
    "Y = net(torch.rand(3, 4))  # 4*8\n",
    "Y, Y.mean()"
   ],
   "id": "59c4e7205f8d3a5b",
   "outputs": [
    {
     "data": {
      "text/plain": [
       "(tensor([[-0.1072,  0.5934, -0.2699, -0.4587, -0.0610, -0.2429,  0.2248],\n",
       "         [-0.2037,  0.8679, -0.4791,  0.0935, -0.6336,  0.1474,  0.5953],\n",
       "         [ 0.0103,  0.5789, -0.4474,  0.0106, -0.5588, -0.0832,  0.4232]],\n",
       "        grad_fn=<SubBackward0>),\n",
       " tensor(1.2772e-08, grad_fn=<MeanBackward0>))"
      ]
     },
     "execution_count": 2,
     "metadata": {},
     "output_type": "execute_result"
    }
   ],
   "execution_count": 2
  },
  {
   "metadata": {
    "ExecuteTime": {
     "end_time": "2024-10-14T06:28:56.533098Z",
     "start_time": "2024-10-14T06:28:56.524958Z"
    }
   },
   "cell_type": "code",
   "source": [
    "# 自定义带参数的层\n",
    "class MyLinear(nn.Module):\n",
    "    def __init__(self, in_units, units):\n",
    "        super().__init__()\n",
    "        self.weight = nn.Parameter(torch.randn(in_units, units))\n",
    "        self.bias = nn.Parameter(torch.randn(units))\n",
    "\n",
    "    def forward(self, X):\n",
    "        linear = torch.matmul(X, self.weight.data) + self.bias.data\n",
    "        return F.relu(linear)\n",
    "\n",
    "\n",
    "dense = MyLinear(5, 3)\n",
    "dense.weight"
   ],
   "id": "14e6f0c0837386dc",
   "outputs": [
    {
     "data": {
      "text/plain": [
       "Parameter containing:\n",
       "tensor([[-0.4309,  0.5857, -0.6292],\n",
       "        [-0.4336,  0.9625,  0.0839],\n",
       "        [ 0.6444, -0.0238, -0.2021],\n",
       "        [ 0.5703,  1.6823, -0.7473],\n",
       "        [-1.0489,  1.8156, -1.6762]], requires_grad=True)"
      ]
     },
     "execution_count": 3,
     "metadata": {},
     "output_type": "execute_result"
    }
   ],
   "execution_count": 3
  },
  {
   "metadata": {
    "ExecuteTime": {
     "end_time": "2024-10-14T06:28:56.541109Z",
     "start_time": "2024-10-14T06:28:56.535239Z"
    }
   },
   "cell_type": "code",
   "source": [
    "# 使用自定义层直接执行forward\n",
    "dense(torch.rand(2, 5))"
   ],
   "id": "5f1bb1203e44d526",
   "outputs": [
    {
     "data": {
      "text/plain": [
       "tensor([[0.8752, 2.7566, 0.0000],\n",
       "        [1.0333, 1.8092, 0.0000]])"
      ]
     },
     "execution_count": 4,
     "metadata": {},
     "output_type": "execute_result"
    }
   ],
   "execution_count": 4
  },
  {
   "metadata": {
    "ExecuteTime": {
     "end_time": "2024-10-14T06:28:56.548775Z",
     "start_time": "2024-10-14T06:28:56.542837Z"
    }
   },
   "cell_type": "code",
   "source": [
    "# 使用自定义层构建模型\n",
    "net = nn.Sequential(MyLinear(64, 8), MyLinear(8, 1))\n",
    "net(torch.rand(2, 64))"
   ],
   "id": "19f9a1b5e9db67a2",
   "outputs": [
    {
     "data": {
      "text/plain": [
       "tensor([[0.],\n",
       "        [0.]])"
      ]
     },
     "execution_count": 5,
     "metadata": {},
     "output_type": "execute_result"
    }
   ],
   "execution_count": 5
  }
 ],
 "metadata": {
  "kernelspec": {
   "display_name": "Python 3",
   "language": "python",
   "name": "python3"
  },
  "language_info": {
   "codemirror_mode": {
    "name": "ipython",
    "version": 2
   },
   "file_extension": ".py",
   "mimetype": "text/x-python",
   "name": "python",
   "nbconvert_exporter": "python",
   "pygments_lexer": "ipython2",
   "version": "2.7.6"
  }
 },
 "nbformat": 4,
 "nbformat_minor": 5
}
