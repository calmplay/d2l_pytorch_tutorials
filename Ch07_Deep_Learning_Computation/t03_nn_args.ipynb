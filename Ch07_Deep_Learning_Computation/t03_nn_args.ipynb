{
 "cells": [
  {
   "cell_type": "code",
   "id": "initial_id",
   "metadata": {
    "collapsed": true,
    "ExecuteTime": {
     "end_time": "2024-10-14T06:28:47.711574Z",
     "start_time": "2024-10-14T06:28:46.201120Z"
    }
   },
   "source": [
    "import torch\n",
    "from torch import nn\n",
    "\n",
    "# 单隐藏层的MLP\n",
    "net = nn.Sequential(nn.Linear(4, 8), nn.ReLU(), nn.Linear(8, 1))\n",
    "\n",
    "X = torch.rand(size=(2, 4))\n",
    "net(X)"
   ],
   "outputs": [
    {
     "data": {
      "text/plain": [
       "tensor([[0.2282],\n",
       "        [0.3467]], grad_fn=<AddmmBackward0>)"
      ]
     },
     "execution_count": 1,
     "metadata": {},
     "output_type": "execute_result"
    }
   ],
   "execution_count": 1
  },
  {
   "metadata": {
    "ExecuteTime": {
     "end_time": "2024-10-14T06:28:47.720945Z",
     "start_time": "2024-10-14T06:28:47.714210Z"
    }
   },
   "cell_type": "code",
   "source": [
    "# 参数访问\n",
    "# args第三个是nn.Linear(8,1),看看长啥样\n",
    "print(net[2].state_dict())"
   ],
   "id": "42b87d5364d30f06",
   "outputs": [
    {
     "name": "stdout",
     "output_type": "stream",
     "text": [
      "OrderedDict([('weight', tensor([[ 0.2538,  0.2928, -0.1281, -0.1414, -0.0675,  0.0224,  0.2787,  0.0976]])), ('bias', tensor([0.1657]))])\n"
     ]
    }
   ],
   "execution_count": 2
  },
  {
   "metadata": {
    "ExecuteTime": {
     "end_time": "2024-10-14T06:28:47.730057Z",
     "start_time": "2024-10-14T06:28:47.722472Z"
    }
   },
   "cell_type": "code",
   "source": [
    "# 访问更具体的参数\n",
    "print(type(net[2].bias))\n",
    "print(net[2].bias)\n",
    "print(net[2].bias.data)"
   ],
   "id": "c5cd5d36904b6459",
   "outputs": [
    {
     "name": "stdout",
     "output_type": "stream",
     "text": [
      "<class 'torch.nn.parameter.Parameter'>\n",
      "Parameter containing:\n",
      "tensor([0.1657], requires_grad=True)\n",
      "tensor([0.1657])\n"
     ]
    }
   ],
   "execution_count": 3
  },
  {
   "metadata": {
    "ExecuteTime": {
     "end_time": "2024-10-14T06:28:47.736160Z",
     "start_time": "2024-10-14T06:28:47.731432Z"
    }
   },
   "cell_type": "code",
   "source": [
    "# 可以直接访问\n",
    "print(net[2].weight.grad)"
   ],
   "id": "c161f34f7e385c32",
   "outputs": [
    {
     "name": "stdout",
     "output_type": "stream",
     "text": [
      "None\n"
     ]
    }
   ],
   "execution_count": 4
  },
  {
   "metadata": {
    "ExecuteTime": {
     "end_time": "2024-10-14T06:28:47.744690Z",
     "start_time": "2024-10-14T06:28:47.738977Z"
    }
   },
   "cell_type": "code",
   "source": [
    "# 一次性访问所有参数\n",
    "print(*[(name, param.shape) for name, param in net[0].named_parameters()])\n",
    "print(*[(name, param.shape) for name, param in net.named_parameters()])"
   ],
   "id": "495f8f2e428d4131",
   "outputs": [
    {
     "name": "stdout",
     "output_type": "stream",
     "text": [
      "('weight', torch.Size([8, 4])) ('bias', torch.Size([8]))\n",
      "('0.weight', torch.Size([8, 4])) ('0.bias', torch.Size([8])) ('2.weight', torch.Size([1, 8])) ('2.bias', torch.Size([1]))\n"
     ]
    }
   ],
   "execution_count": 5
  },
  {
   "metadata": {
    "ExecuteTime": {
     "end_time": "2024-10-14T06:28:47.755406Z",
     "start_time": "2024-10-14T06:28:47.746226Z"
    }
   },
   "cell_type": "code",
   "source": "net.state_dict()['2.bias'].data",
   "id": "a2b8be37ff9ef94",
   "outputs": [
    {
     "data": {
      "text/plain": [
       "tensor([0.1657])"
      ]
     },
     "execution_count": 6,
     "metadata": {},
     "output_type": "execute_result"
    }
   ],
   "execution_count": 6
  },
  {
   "metadata": {
    "ExecuteTime": {
     "end_time": "2024-10-14T06:28:47.768995Z",
     "start_time": "2024-10-14T06:28:47.756992Z"
    }
   },
   "cell_type": "code",
   "source": [
    "# 从嵌套块收集参数\n",
    "def block1():\n",
    "    return nn.Sequential(nn.Linear(4, 8), nn.ReLU(), nn.Linear(8, 4), nn.ReLU())\n",
    "\n",
    "\n",
    "def block2():\n",
    "    net = nn.Sequential()\n",
    "    for i in range(4):\n",
    "        net.add_module(f'block {i}', block1())  # 可以为子模块命名\n",
    "    return net\n",
    "\n",
    "\n",
    "rg_net = nn.Sequential(block2(), nn.Linear(4, 1))\n",
    "print(rg_net)\n",
    "print(rg_net(X))"
   ],
   "id": "734ea49eb9904936",
   "outputs": [
    {
     "name": "stdout",
     "output_type": "stream",
     "text": [
      "Sequential(\n",
      "  (0): Sequential(\n",
      "    (block 0): Sequential(\n",
      "      (0): Linear(in_features=4, out_features=8, bias=True)\n",
      "      (1): ReLU()\n",
      "      (2): Linear(in_features=8, out_features=4, bias=True)\n",
      "      (3): ReLU()\n",
      "    )\n",
      "    (block 1): Sequential(\n",
      "      (0): Linear(in_features=4, out_features=8, bias=True)\n",
      "      (1): ReLU()\n",
      "      (2): Linear(in_features=8, out_features=4, bias=True)\n",
      "      (3): ReLU()\n",
      "    )\n",
      "    (block 2): Sequential(\n",
      "      (0): Linear(in_features=4, out_features=8, bias=True)\n",
      "      (1): ReLU()\n",
      "      (2): Linear(in_features=8, out_features=4, bias=True)\n",
      "      (3): ReLU()\n",
      "    )\n",
      "    (block 3): Sequential(\n",
      "      (0): Linear(in_features=4, out_features=8, bias=True)\n",
      "      (1): ReLU()\n",
      "      (2): Linear(in_features=8, out_features=4, bias=True)\n",
      "      (3): ReLU()\n",
      "    )\n",
      "  )\n",
      "  (1): Linear(in_features=4, out_features=1, bias=True)\n",
      ")\n",
      "tensor([[-0.0443],\n",
      "        [-0.0443]], grad_fn=<AddmmBackward0>)\n"
     ]
    }
   ],
   "execution_count": 7
  },
  {
   "metadata": {
    "ExecuteTime": {
     "end_time": "2024-10-14T06:28:47.779713Z",
     "start_time": "2024-10-14T06:28:47.770602Z"
    }
   },
   "cell_type": "code",
   "source": [
    "# 内置初始化\n",
    "def init_normal(m):\n",
    "    \"\"\"初始化为均值为0，方差为0.01的正态分布\"\"\"\n",
    "    if type(m) == nn.Linear:\n",
    "        nn.init.normal_(m.weight, mean=0, std=0.01)\n",
    "        nn.init.zeros_(m.bias)\n",
    "\n",
    "\n",
    "net.apply(init_normal)  # 应用到每一层\n",
    "net[0].weight.data[0], net[0].bias.data[0]"
   ],
   "id": "33ad6290f09d77d0",
   "outputs": [
    {
     "data": {
      "text/plain": [
       "(tensor([-0.0223,  0.0042, -0.0043, -0.0002]), tensor(0.))"
      ]
     },
     "execution_count": 8,
     "metadata": {},
     "output_type": "execute_result"
    }
   ],
   "execution_count": 8
  },
  {
   "metadata": {
    "ExecuteTime": {
     "end_time": "2024-10-14T06:28:47.791518Z",
     "start_time": "2024-10-14T06:28:47.781277Z"
    }
   },
   "cell_type": "code",
   "source": [
    "def init_constant(m):\n",
    "    if type(m) == nn.Linear:\n",
    "        nn.init.constant_(m.weight, 1)\n",
    "        nn.init.zeros_(m.bias)\n",
    "\n",
    "\n",
    "net.apply(init_constant)\n",
    "net[0].weight.data[0], net[0].bias.data[0]"
   ],
   "id": "34a4b8c00e1dd161",
   "outputs": [
    {
     "data": {
      "text/plain": [
       "(tensor([1., 1., 1., 1.]), tensor(0.))"
      ]
     },
     "execution_count": 9,
     "metadata": {},
     "output_type": "execute_result"
    }
   ],
   "execution_count": 9
  },
  {
   "metadata": {},
   "cell_type": "markdown",
   "source": [
    "思考: Weight为什么不能初始化为常数?\n",
    "\n",
    "对称性问题和梯度消失等问题"
   ],
   "id": "496fb5167f954ed9"
  },
  {
   "metadata": {
    "ExecuteTime": {
     "end_time": "2024-10-14T06:28:47.805774Z",
     "start_time": "2024-10-14T06:28:47.794276Z"
    }
   },
   "cell_type": "code",
   "source": [
    "# 对某些块应用不同的初始化方法\n",
    "def xavier(m):\n",
    "    if type(m) == nn.Linear:\n",
    "        nn.init.xavier_uniform_(m.weight)\n",
    "\n",
    "\n",
    "def init_42(m):\n",
    "    if type(m) == nn.Linear:\n",
    "        nn.init.constant_(m.weight, 42)\n",
    "\n",
    "\n",
    "net[0].apply(xavier)\n",
    "net[2].apply(init_42)\n",
    "print(net[0].weight.data[0])\n",
    "print(net[2].weight.data[0])"
   ],
   "id": "2034a9604a0c704b",
   "outputs": [
    {
     "name": "stdout",
     "output_type": "stream",
     "text": [
      "tensor([-0.0408, -0.2486, -0.2578, -0.2764])\n",
      "tensor([42., 42., 42., 42., 42., 42., 42., 42.])\n"
     ]
    }
   ],
   "execution_count": 10
  },
  {
   "metadata": {
    "ExecuteTime": {
     "end_time": "2024-10-14T06:28:47.820897Z",
     "start_time": "2024-10-14T06:28:47.808563Z"
    }
   },
   "cell_type": "code",
   "source": [
    "# 参数绑定\n",
    "shared = nn.Linear(8, 8)\n",
    "# 第二层和第四层是同一个对象，所以它们共享参数 ——如何在不同的网络之间共享权重的方法\n",
    "net = nn.Sequential(nn.Linear(4, 8), nn.ReLU(), shared, nn.ReLU(), shared,\n",
    "                    nn.ReLU(), nn.Linear(8, 1))\n",
    "net(X)"
   ],
   "id": "84559c12b4cbfb84",
   "outputs": [
    {
     "data": {
      "text/plain": [
       "tensor([[-0.2428],\n",
       "        [-0.2381]], grad_fn=<AddmmBackward0>)"
      ]
     },
     "execution_count": 11,
     "metadata": {},
     "output_type": "execute_result"
    }
   ],
   "execution_count": 11
  },
  {
   "metadata": {
    "ExecuteTime": {
     "end_time": "2024-10-14T06:28:47.832688Z",
     "start_time": "2024-10-14T06:28:47.823366Z"
    }
   },
   "cell_type": "code",
   "source": [
    "print(net[2].weight.data[0] == net[4].weight.data[0])\n",
    "net[2].weight.data[0, 0] = 100\n",
    "print(net[2].weight.data[0] == net[4].weight.data[0])"
   ],
   "id": "d374749d85ecb31f",
   "outputs": [
    {
     "name": "stdout",
     "output_type": "stream",
     "text": [
      "tensor([True, True, True, True, True, True, True, True])\n",
      "tensor([True, True, True, True, True, True, True, True])\n"
     ]
    }
   ],
   "execution_count": 12
  }
 ],
 "metadata": {
  "kernelspec": {
   "display_name": "Python 3",
   "language": "python",
   "name": "python3"
  },
  "language_info": {
   "codemirror_mode": {
    "name": "ipython",
    "version": 2
   },
   "file_extension": ".py",
   "mimetype": "text/x-python",
   "name": "python",
   "nbconvert_exporter": "python",
   "pygments_lexer": "ipython2",
   "version": "2.7.6"
  }
 },
 "nbformat": 4,
 "nbformat_minor": 5
}
