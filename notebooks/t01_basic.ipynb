{
 "cells": [
  {
   "metadata": {
    "ExecuteTime": {
     "end_time": "2024-10-14T06:18:38.403796Z",
     "start_time": "2024-10-14T06:18:38.394190Z"
    }
   },
   "cell_type": "code",
   "source": [
    "import torch\n",
    "device = \"\"\n",
    "if torch.cuda.is_available():\n",
    "    device = \"cuda\"\n",
    "elif torch.backends.mps.is_available():\n",
    "    device = \"mps\"  # macOS m1 的 mps ≈ NVIDIA 1050Ti\n",
    "else:\n",
    "    device = \"cpu\"\n",
    "# 每次setting里更改本地或远程的解释器, 看这里是cuda还是mps就知道有没有切成功了\n",
    "# 现在每次都得重新打开项目,才切换\n",
    "print(f\"Using {device} device\")"
   ],
   "id": "5f5ab27bc6129872",
   "outputs": [
    {
     "name": "stdout",
     "output_type": "stream",
     "text": [
      "Using cuda device\n"
     ]
    }
   ],
   "execution_count": 4
  },
  {
   "metadata": {
    "ExecuteTime": {
     "end_time": "2024-10-14T06:18:38.423731Z",
     "start_time": "2024-10-14T06:18:38.413994Z"
    }
   },
   "cell_type": "code",
   "source": [
    "x = torch.arange(12)\n",
    "x"
   ],
   "id": "27c5325abcb5aec0",
   "outputs": [
    {
     "data": {
      "text/plain": [
       "tensor([ 0,  1,  2,  3,  4,  5,  6,  7,  8,  9, 10, 11])"
      ]
     },
     "execution_count": 5,
     "metadata": {},
     "output_type": "execute_result"
    }
   ],
   "execution_count": 5
  },
  {
   "metadata": {
    "ExecuteTime": {
     "end_time": "2024-10-14T06:18:38.445911Z",
     "start_time": "2024-10-14T06:18:38.437518Z"
    }
   },
   "cell_type": "code",
   "source": "x.shape, x.numel()  # num of elements",
   "id": "ef91779f938063fc",
   "outputs": [
    {
     "data": {
      "text/plain": [
       "(torch.Size([12]), 12)"
      ]
     },
     "execution_count": 6,
     "metadata": {},
     "output_type": "execute_result"
    }
   ],
   "execution_count": 6
  },
  {
   "metadata": {
    "ExecuteTime": {
     "end_time": "2024-10-14T06:18:38.460762Z",
     "start_time": "2024-10-14T06:18:38.449919Z"
    }
   },
   "cell_type": "code",
   "source": "x.reshape(2, 3, -1)  # <=>2,3,2",
   "id": "d55ef24f3a6ca86b",
   "outputs": [
    {
     "data": {
      "text/plain": [
       "tensor([[[ 0,  1],\n",
       "         [ 2,  3],\n",
       "         [ 4,  5]],\n",
       "\n",
       "        [[ 6,  7],\n",
       "         [ 8,  9],\n",
       "         [10, 11]]])"
      ]
     },
     "execution_count": 7,
     "metadata": {},
     "output_type": "execute_result"
    }
   ],
   "execution_count": 7
  },
  {
   "metadata": {
    "ExecuteTime": {
     "end_time": "2024-10-14T06:18:38.474307Z",
     "start_time": "2024-10-14T06:18:38.464885Z"
    }
   },
   "cell_type": "code",
   "source": "x.reshape(3, -1)",
   "id": "f5065d16972cc6ef",
   "outputs": [
    {
     "data": {
      "text/plain": [
       "tensor([[ 0,  1,  2,  3],\n",
       "        [ 4,  5,  6,  7],\n",
       "        [ 8,  9, 10, 11]])"
      ]
     },
     "execution_count": 8,
     "metadata": {},
     "output_type": "execute_result"
    }
   ],
   "execution_count": 8
  },
  {
   "metadata": {
    "ExecuteTime": {
     "end_time": "2024-10-14T06:18:38.498062Z",
     "start_time": "2024-10-14T06:18:38.477509Z"
    }
   },
   "cell_type": "code",
   "source": "torch.zeros((2, 3))",
   "id": "788d8d4901569a87",
   "outputs": [
    {
     "data": {
      "text/plain": [
       "tensor([[0., 0., 0.],\n",
       "        [0., 0., 0.]])"
      ]
     },
     "execution_count": 9,
     "metadata": {},
     "output_type": "execute_result"
    }
   ],
   "execution_count": 9
  },
  {
   "metadata": {
    "ExecuteTime": {
     "end_time": "2024-10-14T06:18:38.523893Z",
     "start_time": "2024-10-14T06:18:38.501520Z"
    }
   },
   "cell_type": "code",
   "source": "torch.ones(2)",
   "id": "2546fc992451ba87",
   "outputs": [
    {
     "data": {
      "text/plain": [
       "tensor([1., 1.])"
      ]
     },
     "execution_count": 10,
     "metadata": {},
     "output_type": "execute_result"
    }
   ],
   "execution_count": 10
  },
  {
   "metadata": {
    "ExecuteTime": {
     "end_time": "2024-10-14T06:18:38.538179Z",
     "start_time": "2024-10-14T06:18:38.527123Z"
    }
   },
   "cell_type": "code",
   "source": "torch.randn((2, 3, 4))",
   "id": "9b991458fa21df72",
   "outputs": [
    {
     "data": {
      "text/plain": [
       "tensor([[[ 1.2820, -0.7593, -0.6062, -0.9267],\n",
       "         [-0.1872,  0.3729,  1.2597,  0.9664],\n",
       "         [ 0.7288, -0.5261, -0.2300,  0.4441]],\n",
       "\n",
       "        [[-0.9746, -1.0643, -0.6751, -0.1700],\n",
       "         [ 0.4167, -1.3299, -0.2828,  1.8716],\n",
       "         [ 0.9378,  0.5792,  0.9252, -0.0098]]])"
      ]
     },
     "execution_count": 11,
     "metadata": {},
     "output_type": "execute_result"
    }
   ],
   "execution_count": 11
  },
  {
   "metadata": {
    "ExecuteTime": {
     "end_time": "2024-10-14T06:18:38.552169Z",
     "start_time": "2024-10-14T06:18:38.541378Z"
    }
   },
   "cell_type": "code",
   "source": [
    "# 可以手动赋值创建\n",
    "x = torch.tensor([[1, 2, 3], [2, 0, 0.]])\n",
    "x, x.shape, x.dtype"
   ],
   "id": "b844b64ecddcdd96",
   "outputs": [
    {
     "data": {
      "text/plain": [
       "(tensor([[1., 2., 3.],\n",
       "         [2., 0., 0.]]),\n",
       " torch.Size([2, 3]),\n",
       " torch.float32)"
      ]
     },
     "execution_count": 12,
     "metadata": {},
     "output_type": "execute_result"
    }
   ],
   "execution_count": 12
  },
  {
   "metadata": {
    "ExecuteTime": {
     "end_time": "2024-10-14T06:18:38.565353Z",
     "start_time": "2024-10-14T06:18:38.555553Z"
    }
   },
   "cell_type": "code",
   "source": [
    "# 转类型\n",
    "x.type(torch.int64), x.int()  # 两者等价"
   ],
   "id": "f68377e4749faf39",
   "outputs": [
    {
     "data": {
      "text/plain": [
       "(tensor([[1, 2, 3],\n",
       "         [2, 0, 0]]),\n",
       " tensor([[1, 2, 3],\n",
       "         [2, 0, 0]], dtype=torch.int32))"
      ]
     },
     "execution_count": 13,
     "metadata": {},
     "output_type": "execute_result"
    }
   ],
   "execution_count": 13
  },
  {
   "metadata": {
    "ExecuteTime": {
     "end_time": "2024-10-14T06:18:38.585382Z",
     "start_time": "2024-10-14T06:18:38.568885Z"
    }
   },
   "cell_type": "code",
   "source": [
    "x = torch.tensor([1.0, 2, 3, 4])\n",
    "y = torch.tensor([4, 3, 3, 3])\n",
    "x + y, x - y, x * y, x / y, x ** y  # **是幂运算"
   ],
   "id": "bfb33da94da072de",
   "outputs": [
    {
     "data": {
      "text/plain": [
       "(tensor([5., 5., 6., 7.]),\n",
       " tensor([-3., -1.,  0.,  1.]),\n",
       " tensor([ 4.,  6.,  9., 12.]),\n",
       " tensor([0.2500, 0.6667, 1.0000, 1.3333]),\n",
       " tensor([ 1.,  8., 27., 64.]))"
      ]
     },
     "execution_count": 14,
     "metadata": {},
     "output_type": "execute_result"
    }
   ],
   "execution_count": 14
  },
  {
   "metadata": {
    "ExecuteTime": {
     "end_time": "2024-10-14T06:18:38.597896Z",
     "start_time": "2024-10-14T06:18:38.588086Z"
    }
   },
   "cell_type": "code",
   "source": "torch.exp(x)  # e的x次幂",
   "id": "8ad10f6a1e142adc",
   "outputs": [
    {
     "data": {
      "text/plain": [
       "tensor([ 2.7183,  7.3891, 20.0855, 54.5981])"
      ]
     },
     "execution_count": 15,
     "metadata": {},
     "output_type": "execute_result"
    }
   ],
   "execution_count": 15
  },
  {
   "metadata": {
    "ExecuteTime": {
     "end_time": "2024-10-14T06:18:38.617506Z",
     "start_time": "2024-10-14T06:18:38.603617Z"
    }
   },
   "cell_type": "code",
   "source": [
    "# tensor连结\n",
    "X = torch.arange(12, dtype=torch.float32).reshape((3, 4))\n",
    "Y = torch.tensor(([2.0, 1, 4, 3], [1, 2, 3, 4], [4, 3, 2, 1]))\n",
    "X, Y, torch.cat((X, Y), dim=0), torch.cat((X, Y), dim=1)\n",
    "# dim=0 表示在行上拼接(增加行),dim=1 表示在列上拼接(增加列)"
   ],
   "id": "484d331adbca634d",
   "outputs": [
    {
     "data": {
      "text/plain": [
       "(tensor([[ 0.,  1.,  2.,  3.],\n",
       "         [ 4.,  5.,  6.,  7.],\n",
       "         [ 8.,  9., 10., 11.]]),\n",
       " tensor([[2., 1., 4., 3.],\n",
       "         [1., 2., 3., 4.],\n",
       "         [4., 3., 2., 1.]]),\n",
       " tensor([[ 0.,  1.,  2.,  3.],\n",
       "         [ 4.,  5.,  6.,  7.],\n",
       "         [ 8.,  9., 10., 11.],\n",
       "         [ 2.,  1.,  4.,  3.],\n",
       "         [ 1.,  2.,  3.,  4.],\n",
       "         [ 4.,  3.,  2.,  1.]]),\n",
       " tensor([[ 0.,  1.,  2.,  3.,  2.,  1.,  4.,  3.],\n",
       "         [ 4.,  5.,  6.,  7.,  1.,  2.,  3.,  4.],\n",
       "         [ 8.,  9., 10., 11.,  4.,  3.,  2.,  1.]]))"
      ]
     },
     "execution_count": 16,
     "metadata": {},
     "output_type": "execute_result"
    }
   ],
   "execution_count": 16
  },
  {
   "metadata": {
    "ExecuteTime": {
     "end_time": "2024-10-14T06:18:38.628149Z",
     "start_time": "2024-10-14T06:18:38.619848Z"
    }
   },
   "cell_type": "code",
   "source": [
    "# 通过逻辑运算符构建二元张量\n",
    "X == Y, X > Y, X < Y"
   ],
   "id": "e3a7d45f7bc66e69",
   "outputs": [
    {
     "data": {
      "text/plain": [
       "(tensor([[False,  True, False,  True],\n",
       "         [False, False, False, False],\n",
       "         [False, False, False, False]]),\n",
       " tensor([[False, False, False, False],\n",
       "         [ True,  True,  True,  True],\n",
       "         [ True,  True,  True,  True]]),\n",
       " tensor([[ True, False,  True, False],\n",
       "         [False, False, False, False],\n",
       "         [False, False, False, False]]))"
      ]
     },
     "execution_count": 17,
     "metadata": {},
     "output_type": "execute_result"
    }
   ],
   "execution_count": 17
  },
  {
   "metadata": {
    "ExecuteTime": {
     "end_time": "2024-10-14T06:18:38.639767Z",
     "start_time": "2024-10-14T06:18:38.630513Z"
    }
   },
   "cell_type": "code",
   "source": "X.sum(), X.int(), Y.prod()  # 聚合函数, 生成单元素tensor",
   "id": "7b5945002336505b",
   "outputs": [
    {
     "data": {
      "text/plain": [
       "(tensor(66.),\n",
       " tensor([[ 0,  1,  2,  3],\n",
       "         [ 4,  5,  6,  7],\n",
       "         [ 8,  9, 10, 11]], dtype=torch.int32),\n",
       " tensor(13824.))"
      ]
     },
     "execution_count": 18,
     "metadata": {},
     "output_type": "execute_result"
    }
   ],
   "execution_count": 18
  },
  {
   "metadata": {
    "ExecuteTime": {
     "end_time": "2024-10-14T06:18:38.650680Z",
     "start_time": "2024-10-14T06:18:38.642723Z"
    }
   },
   "cell_type": "code",
   "source": [
    "# 即使shape不同, 仍可通过广播机制(broadcast mechanism)按元素操作\n",
    "a = torch.arange(3).reshape((3, 1))\n",
    "b = torch.arange(2).reshape((1, 2))\n",
    "a, b"
   ],
   "id": "ce623a8360c4c456",
   "outputs": [
    {
     "data": {
      "text/plain": [
       "(tensor([[0],\n",
       "         [1],\n",
       "         [2]]),\n",
       " tensor([[0, 1]]))"
      ]
     },
     "execution_count": 19,
     "metadata": {},
     "output_type": "execute_result"
    }
   ],
   "execution_count": 19
  },
  {
   "metadata": {
    "ExecuteTime": {
     "end_time": "2024-10-14T06:18:38.660408Z",
     "start_time": "2024-10-14T06:18:38.653126Z"
    }
   },
   "cell_type": "code",
   "source": "a + b  # 维度一致,均扩成3x2,缺失的行列复制已有的",
   "id": "9b111aafbc72d0c5",
   "outputs": [
    {
     "data": {
      "text/plain": [
       "tensor([[0, 1],\n",
       "        [1, 2],\n",
       "        [2, 3]])"
      ]
     },
     "execution_count": 20,
     "metadata": {},
     "output_type": "execute_result"
    }
   ],
   "execution_count": 20
  },
  {
   "metadata": {
    "ExecuteTime": {
     "end_time": "2024-10-14T06:18:38.674729Z",
     "start_time": "2024-10-14T06:18:38.663025Z"
    }
   },
   "cell_type": "code",
   "source": "X, X[1, 2], X[-1], X[1:3]  # 元素查询,切片",
   "id": "8bbd119d7e877d56",
   "outputs": [
    {
     "data": {
      "text/plain": [
       "(tensor([[ 0.,  1.,  2.,  3.],\n",
       "         [ 4.,  5.,  6.,  7.],\n",
       "         [ 8.,  9., 10., 11.]]),\n",
       " tensor(6.),\n",
       " tensor([ 8.,  9., 10., 11.]),\n",
       " tensor([[ 4.,  5.,  6.,  7.],\n",
       "         [ 8.,  9., 10., 11.]]))"
      ]
     },
     "execution_count": 21,
     "metadata": {},
     "output_type": "execute_result"
    }
   ],
   "execution_count": 21
  },
  {
   "metadata": {
    "ExecuteTime": {
     "end_time": "2024-10-14T06:18:38.687149Z",
     "start_time": "2024-10-14T06:18:38.677619Z"
    }
   },
   "cell_type": "code",
   "source": [
    "# 元素赋值\n",
    "X[0:2, :] = 666\n",
    "X[1, 2] = 777\n",
    "X"
   ],
   "id": "8e6018859240ca84",
   "outputs": [
    {
     "data": {
      "text/plain": [
       "tensor([[666., 666., 666., 666.],\n",
       "        [666., 666., 777., 666.],\n",
       "        [  8.,   9.,  10.,  11.]])"
      ]
     },
     "execution_count": 22,
     "metadata": {},
     "output_type": "execute_result"
    }
   ],
   "execution_count": 22
  },
  {
   "metadata": {
    "ExecuteTime": {
     "end_time": "2024-10-14T06:18:38.698824Z",
     "start_time": "2024-10-14T06:18:38.690417Z"
    }
   },
   "cell_type": "code",
   "source": [
    "# 一些操作会导致为新结果分配内存\n",
    "before = id(Y)\n",
    "Y = Y + X  # 如果用Y[:]=Y+X或者Y+=X , 则不会重新分配内存\n",
    "id(Y) == before"
   ],
   "id": "341149c4bca0359b",
   "outputs": [
    {
     "data": {
      "text/plain": [
       "False"
      ]
     },
     "execution_count": 23,
     "metadata": {},
     "output_type": "execute_result"
    }
   ],
   "execution_count": 23
  },
  {
   "metadata": {
    "ExecuteTime": {
     "end_time": "2024-10-14T06:18:38.713912Z",
     "start_time": "2024-10-14T06:18:38.701841Z"
    }
   },
   "cell_type": "code",
   "source": [
    "# 执行原地操作\n",
    "Z1 = torch.zeros_like(Y)\n",
    "Z2 = torch.zeros_like(Y)\n",
    "before1 = id(Z1)\n",
    "before2 = id(Z2)\n",
    "Z1[:] = Z1 + X\n",
    "Z2 += X\n",
    "id(Z1) == before1, id(Z2) == before2"
   ],
   "id": "df78f7890cf294f4",
   "outputs": [
    {
     "data": {
      "text/plain": [
       "(True, True)"
      ]
     },
     "execution_count": 24,
     "metadata": {},
     "output_type": "execute_result"
    }
   ],
   "execution_count": 24
  },
  {
   "metadata": {
    "ExecuteTime": {
     "end_time": "2024-10-14T06:18:38.726212Z",
     "start_time": "2024-10-14T06:18:38.717207Z"
    }
   },
   "cell_type": "code",
   "source": [
    "# NumPy\n",
    "A = X.numpy()\n",
    "B = torch.tensor(A)\n",
    "type(A), type(B)"
   ],
   "id": "5b9656a9828e39f9",
   "outputs": [
    {
     "data": {
      "text/plain": [
       "(numpy.ndarray, torch.Tensor)"
      ]
     },
     "execution_count": 25,
     "metadata": {},
     "output_type": "execute_result"
    }
   ],
   "execution_count": 25
  },
  {
   "metadata": {
    "ExecuteTime": {
     "end_time": "2024-10-14T06:18:38.740125Z",
     "start_time": "2024-10-14T06:18:38.729231Z"
    }
   },
   "cell_type": "code",
   "source": [
    "# 将标量tensor转化为普通类型标量\n",
    "a = torch.tensor([3.5])\n",
    "a, a.item(), float(a), int(a)"
   ],
   "id": "b3586c1e3d01b482",
   "outputs": [
    {
     "data": {
      "text/plain": [
       "(tensor([3.5000]), 3.5, 3.5, 3)"
      ]
     },
     "execution_count": 26,
     "metadata": {},
     "output_type": "execute_result"
    }
   ],
   "execution_count": 26
  },
  {
   "metadata": {},
   "cell_type": "markdown",
   "source": [
    "\n",
    "\n",
    "\n",
    "其他:"
   ],
   "id": "39788d49778177c4"
  },
  {
   "metadata": {
    "ExecuteTime": {
     "end_time": "2024-10-14T06:18:38.752832Z",
     "start_time": "2024-10-14T06:18:38.743410Z"
    }
   },
   "cell_type": "code",
   "source": [
    "import torch\n",
    "a = torch.arange(12)\n",
    "print(a)\n",
    "b = a.reshape(3, 4)\n",
    "b[:] = 2\n",
    "print(a)  # 注意: a的值也被改变了"
   ],
   "id": "e0e3b0449ca73657",
   "outputs": [
    {
     "name": "stdout",
     "output_type": "stream",
     "text": [
      "tensor([ 0,  1,  2,  3,  4,  5,  6,  7,  8,  9, 10, 11])\n",
      "tensor([2, 2, 2, 2, 2, 2, 2, 2, 2, 2, 2, 2])\n"
     ]
    }
   ],
   "execution_count": 27
  },
  {
   "metadata": {
    "ExecuteTime": {
     "end_time": "2024-10-14T06:18:38.760320Z",
     "start_time": "2024-10-14T06:18:38.756164Z"
    }
   },
   "cell_type": "code",
   "source": "",
   "id": "bf302b985a3817e5",
   "outputs": [],
   "execution_count": 27
  }
 ],
 "metadata": {
  "kernelspec": {
   "display_name": "Python 3",
   "language": "python",
   "name": "python3"
  },
  "language_info": {
   "codemirror_mode": {
    "name": "ipython",
    "version": 2
   },
   "file_extension": ".py",
   "mimetype": "text/x-python",
   "name": "python",
   "nbconvert_exporter": "python",
   "pygments_lexer": "ipython2",
   "version": "2.7.6"
  }
 },
 "nbformat": 4,
 "nbformat_minor": 5
}
