{
 "cells": [
  {
   "metadata": {
    "ExecuteTime": {
     "end_time": "2024-10-14T06:28:37.272229Z",
     "start_time": "2024-10-14T06:28:35.776072Z"
    }
   },
   "cell_type": "code",
   "source": [
    "import torch\n",
    "from torch import nn\n",
    "from torch.nn import functional as F\n",
    "\n",
    "# 首先回顾一下多层感知机\n",
    "net = nn.Sequential(nn.Linear(20, 256), nn.ReLU(), nn.Linear(256, 10))\n",
    "# nn.Sequential定义了一种特殊的Module\n",
    "X = torch.rand(2, 20)\n",
    "net(X)"
   ],
   "id": "1762f9fd70a691cb",
   "outputs": [
    {
     "data": {
      "text/plain": [
       "tensor([[-0.3097, -0.0372,  0.3381,  0.0987, -0.0319,  0.0395, -0.1590,  0.2137,\n",
       "         -0.0350, -0.0658],\n",
       "        [-0.0889, -0.0079,  0.3512, -0.0652, -0.0796,  0.0355, -0.1300,  0.1408,\n",
       "          0.0440, -0.1611]], grad_fn=<AddmmBackward0>)"
      ]
     },
     "execution_count": 1,
     "metadata": {},
     "output_type": "execute_result"
    }
   ],
   "execution_count": 1
  },
  {
   "metadata": {
    "ExecuteTime": {
     "end_time": "2024-10-14T06:28:37.279015Z",
     "start_time": "2024-10-14T06:28:37.274207Z"
    }
   },
   "cell_type": "code",
   "source": [
    "\"\"\"\n",
    "Module在pytorch中是一个非常重要的抽象类\n",
    "\"\"\"\n",
    "\n",
    "\n",
    "# 自定义块(Module)\n",
    "# 最重要的是两个函数:__init__和forward\n",
    "class MLP(nn.Module):\n",
    "    def __init__(self):\n",
    "        super().__init__()\n",
    "        # 两个全连接层,一个h,一个out\n",
    "        self.hidden = nn.Linear(20, 256)\n",
    "        self.out = nn.Linear(256, 10)\n",
    "\n",
    "    def forward(self, X):\n",
    "        # 输入X,return output\n",
    "        return self.out(F.relu(self.hidden(X)))"
   ],
   "id": "34c5aaf8f058a695",
   "outputs": [],
   "execution_count": 2
  },
  {
   "metadata": {
    "ExecuteTime": {
     "end_time": "2024-10-14T06:28:37.288879Z",
     "start_time": "2024-10-14T06:28:37.280397Z"
    }
   },
   "cell_type": "code",
   "source": [
    "net = MLP()\n",
    "net(X)"
   ],
   "id": "7b3156f9cab757a2",
   "outputs": [
    {
     "data": {
      "text/plain": [
       "tensor([[ 0.0807,  0.1049, -0.0275,  0.1467,  0.0886, -0.0606,  0.1285,  0.0724,\n",
       "         -0.1141, -0.1272],\n",
       "        [ 0.0955, -0.0367, -0.0425,  0.0582,  0.0342, -0.1766,  0.0266,  0.0064,\n",
       "         -0.0095, -0.1258]], grad_fn=<AddmmBackward0>)"
      ]
     },
     "execution_count": 3,
     "metadata": {},
     "output_type": "execute_result"
    }
   ],
   "execution_count": 3
  },
  {
   "metadata": {
    "ExecuteTime": {
     "end_time": "2024-10-14T06:28:37.298121Z",
     "start_time": "2024-10-14T06:28:37.290331Z"
    }
   },
   "cell_type": "code",
   "source": [
    "# 自己实现Sequential(顺序块)\n",
    "class MySequential(nn.Module):\n",
    "    def __init__(self, *args):\n",
    "        super().__init__()\n",
    "        for block in args:\n",
    "            # nn.Linear,nn.ReLU等等block\n",
    "            self._modules[block] = block\n",
    "\n",
    "    def forward(self, X):\n",
    "        for block in self._modules.values():\n",
    "            X = block(X)\n",
    "        return X\n",
    "\n",
    "\n",
    "net = MySequential(nn.Linear(20, 256), nn.ReLU(), nn.Linear(256, 10))\n",
    "net(X)"
   ],
   "id": "7c2d7d5f57f3f58f",
   "outputs": [
    {
     "data": {
      "text/plain": [
       "tensor([[ 0.2667, -0.1907, -0.5101, -0.0984,  0.1334, -0.0597, -0.0566,  0.3291,\n",
       "          0.0235, -0.1745],\n",
       "        [ 0.1626, -0.1257, -0.4535, -0.1122,  0.1661, -0.0944, -0.2050,  0.2493,\n",
       "          0.1379,  0.0561]], grad_fn=<AddmmBackward0>)"
      ]
     },
     "execution_count": 4,
     "metadata": {},
     "output_type": "execute_result"
    }
   ],
   "execution_count": 4
  },
  {
   "metadata": {
    "ExecuteTime": {
     "end_time": "2024-10-14T06:28:37.309931Z",
     "start_time": "2024-10-14T06:28:37.300317Z"
    }
   },
   "cell_type": "code",
   "source": [
    "# 在forward函数中执行代码\n",
    "class FixedHiddenMLP(nn.Module):\n",
    "    def __init__(self):\n",
    "        super().__init__()\n",
    "        self.rand_weight = torch.rand((20, 20), requires_grad=False)\n",
    "        self.linear = nn.Linear(20, 20)\n",
    "\n",
    "    def forward(self, X):\n",
    "        # 自定义,随便写的\n",
    "        X = self.linear(X)\n",
    "        X = F.relu(torch.mm(X, self.rand_weight) + 1)\n",
    "        X = self.linear(X)\n",
    "        while X.abs().sum() < 1:\n",
    "            X /= 2\n",
    "        return X.sum()\n",
    "\n",
    "\n",
    "net = FixedHiddenMLP()\n",
    "net(X)"
   ],
   "id": "dd4835a62a9b9b1a",
   "outputs": [
    {
     "data": {
      "text/plain": [
       "tensor(-0.7163, grad_fn=<SumBackward0>)"
      ]
     },
     "execution_count": 5,
     "metadata": {},
     "output_type": "execute_result"
    }
   ],
   "execution_count": 5
  },
  {
   "metadata": {
    "ExecuteTime": {
     "end_time": "2024-10-14T06:28:37.319701Z",
     "start_time": "2024-10-14T06:28:37.311375Z"
    }
   },
   "cell_type": "code",
   "source": [
    "# 混合搭配各种组合块的方法\n",
    "class NestMLP(nn.Module):\n",
    "    def __init__(self):\n",
    "        super().__init__()\n",
    "        self.net = nn.Sequential(nn.Linear(20, 64), nn.ReLU(),\n",
    "                                 nn.Linear(64, 32), nn.ReLU())\n",
    "        self.linear = nn.Linear(32, 16)\n",
    "\n",
    "    def forward(self, X):\n",
    "        return self.linear(self.net(X))\n",
    "\n",
    "# chimera 翻译:混合,嵌合体\n",
    "chimera = nn.Sequential(NestMLP(), nn.Linear(16, 20), FixedHiddenMLP())\n",
    "chimera(X)"
   ],
   "id": "82475a5f7c9594c2",
   "outputs": [
    {
     "data": {
      "text/plain": [
       "tensor(-3.2797, grad_fn=<SumBackward0>)"
      ]
     },
     "execution_count": 6,
     "metadata": {},
     "output_type": "execute_result"
    }
   ],
   "execution_count": 6
  }
 ],
 "metadata": {
  "kernelspec": {
   "display_name": "Python 3",
   "language": "python",
   "name": "python3"
  },
  "language_info": {
   "codemirror_mode": {
    "name": "ipython",
    "version": 2
   },
   "file_extension": ".py",
   "mimetype": "text/x-python",
   "name": "python",
   "nbconvert_exporter": "python",
   "pygments_lexer": "ipython2",
   "version": "2.7.6"
  }
 },
 "nbformat": 4,
 "nbformat_minor": 5
}
