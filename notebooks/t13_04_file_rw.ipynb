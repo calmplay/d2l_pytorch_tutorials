{
 "cells": [
  {
   "metadata": {},
   "cell_type": "markdown",
   "source": "### 读写文件",
   "id": "f139e36dd319f8d9"
  },
  {
   "metadata": {
    "ExecuteTime": {
     "end_time": "2024-10-14T06:29:15.839811Z",
     "start_time": "2024-10-14T06:29:14.327439Z"
    }
   },
   "cell_type": "code",
   "source": [
    "import torch\n",
    "from torch import nn\n",
    "from torch.nn import functional as F\n",
    "\n",
    "# 加载和保存张量\n",
    "x = torch.arange(4)\n",
    "torch.save(x, 'x-file')\n",
    "\n",
    "x2 = torch.load(\"x-file\", weights_only=True)\n",
    "x2"
   ],
   "id": "926c89bc21c4164",
   "outputs": [
    {
     "data": {
      "text/plain": [
       "tensor([0, 1, 2, 3])"
      ]
     },
     "execution_count": 1,
     "metadata": {},
     "output_type": "execute_result"
    }
   ],
   "execution_count": 1
  },
  {
   "metadata": {
    "ExecuteTime": {
     "end_time": "2024-10-14T06:29:15.849887Z",
     "start_time": "2024-10-14T06:29:15.842232Z"
    }
   },
   "cell_type": "code",
   "source": [
    "# tensor列表的rw\n",
    "y = torch.zeros(4)\n",
    "torch.save([x, y], 'x-files')\n",
    "x2, y2 = torch.load('x-files', weights_only=True)\n",
    "(x2, y2)"
   ],
   "id": "c32db1eeedddc1c0",
   "outputs": [
    {
     "data": {
      "text/plain": [
       "(tensor([0, 1, 2, 3]), tensor([0., 0., 0., 0.]))"
      ]
     },
     "execution_count": 2,
     "metadata": {},
     "output_type": "execute_result"
    }
   ],
   "execution_count": 2
  },
  {
   "metadata": {
    "ExecuteTime": {
     "end_time": "2024-10-14T06:29:15.858427Z",
     "start_time": "2024-10-14T06:29:15.851205Z"
    }
   },
   "cell_type": "code",
   "source": [
    "# tensor字典的rw\n",
    "mydict = {'x': x, 'y': y}\n",
    "torch.save(mydict, 'mydict')\n",
    "mydict2 = torch.load('mydict', weights_only=True)\n",
    "mydict2"
   ],
   "id": "8cceb2f214cd5092",
   "outputs": [
    {
     "data": {
      "text/plain": [
       "{'x': tensor([0, 1, 2, 3]), 'y': tensor([0., 0., 0., 0.])}"
      ]
     },
     "execution_count": 3,
     "metadata": {},
     "output_type": "execute_result"
    }
   ],
   "execution_count": 3
  },
  {
   "metadata": {
    "ExecuteTime": {
     "end_time": "2024-10-14T06:29:15.871538Z",
     "start_time": "2024-10-14T06:29:15.860060Z"
    }
   },
   "cell_type": "code",
   "source": [
    "# 模型参数的rw\n",
    "class MLP(nn.Module):\n",
    "    def __init__(self):\n",
    "        super().__init__()\n",
    "        self.hidden = nn.Linear(20, 256)\n",
    "        self.output = nn.Linear(256, 10)\n",
    "\n",
    "    def forward(self, x):\n",
    "        return self.output(F.relu(self.hidden(x)))\n",
    "\n",
    "\n",
    "net = MLP()\n",
    "X = torch.randn(size=(2, 20))\n",
    "Y = net(X)\n",
    "torch.save(net.state_dict(), 'mlp.params')\n",
    "# load时需要实例化原始MLP的一个备份,然后用这个实例去装载load的内容\n",
    "net_cp = MLP()\n",
    "net_cp.load_state_dict(torch.load(\"mlp.params\", weights_only=True))\n",
    "net.eval()"
   ],
   "id": "8b367e409bb143a8",
   "outputs": [
    {
     "data": {
      "text/plain": [
       "MLP(\n",
       "  (hidden): Linear(in_features=20, out_features=256, bias=True)\n",
       "  (output): Linear(in_features=256, out_features=10, bias=True)\n",
       ")"
      ]
     },
     "execution_count": 4,
     "metadata": {},
     "output_type": "execute_result"
    }
   ],
   "execution_count": 4
  },
  {
   "metadata": {
    "ExecuteTime": {
     "end_time": "2024-10-14T06:29:15.880063Z",
     "start_time": "2024-10-14T06:29:15.873745Z"
    }
   },
   "cell_type": "code",
   "source": [
    "Y_2 = net_cp(X)\n",
    "Y_2 == Y"
   ],
   "id": "21c95a6e826d7297",
   "outputs": [
    {
     "data": {
      "text/plain": [
       "tensor([[True, True, True, True, True, True, True, True, True, True],\n",
       "        [True, True, True, True, True, True, True, True, True, True]])"
      ]
     },
     "execution_count": 5,
     "metadata": {},
     "output_type": "execute_result"
    }
   ],
   "execution_count": 5
  }
 ],
 "metadata": {
  "kernelspec": {
   "display_name": "Python 3",
   "language": "python",
   "name": "python3"
  },
  "language_info": {
   "codemirror_mode": {
    "name": "ipython",
    "version": 2
   },
   "file_extension": ".py",
   "mimetype": "text/x-python",
   "name": "python",
   "nbconvert_exporter": "python",
   "pygments_lexer": "ipython2",
   "version": "2.7.6"
  }
 },
 "nbformat": 4,
 "nbformat_minor": 5
}
