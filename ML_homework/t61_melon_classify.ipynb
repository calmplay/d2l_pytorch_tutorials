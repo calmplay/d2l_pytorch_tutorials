{
 "cells": [
  {
   "metadata": {},
   "cell_type": "markdown",
   "source": "### 使用对数几率回归：预测西瓜好坏",
   "id": "d2785c56da897e21"
  },
  {
   "metadata": {
    "ExecuteTime": {
     "end_time": "2024-10-21T07:20:03.243483Z",
     "start_time": "2024-10-21T07:20:00.470479Z"
    }
   },
   "cell_type": "code",
   "source": [
    "import numpy as np\n",
    "import pandas as pd\n",
    "import torch\n",
    "import torch.nn as nn\n",
    "import torch.optim as optim\n",
    "import matplotlib.pyplot as plt\n",
    "from sklearn.preprocessing import StandardScaler"
   ],
   "id": "7f00dc4ac90f775e",
   "outputs": [],
   "execution_count": 1
  },
  {
   "metadata": {
    "ExecuteTime": {
     "end_time": "2024-10-21T07:20:03.250511Z",
     "start_time": "2024-10-21T07:20:03.246314Z"
    }
   },
   "cell_type": "code",
   "source": [
    "import warnings\n",
    "\n",
    "warnings.filterwarnings(\"ignore\", category=UserWarning)  # (屏蔽UserWarning)"
   ],
   "id": "8124eb21fb8503f4",
   "outputs": [],
   "execution_count": 2
  },
  {
   "metadata": {
    "ExecuteTime": {
     "end_time": "2024-10-21T07:20:03.354997Z",
     "start_time": "2024-10-21T07:20:03.252195Z"
    }
   },
   "cell_type": "code",
   "source": [
    "# 加载数据集\n",
    "data_path = '../temp/data_melon.xlsx'\n",
    "data = pd.read_excel(data_path)\n",
    "data  # (DataFrame)"
   ],
   "id": "95496ca31af645e5",
   "outputs": [
    {
     "data": {
      "text/plain": [
       "       密度    含糖率  好瓜\n",
       "0   0.697  0.460   1\n",
       "1   0.774  0.376   1\n",
       "2   0.634  0.264   1\n",
       "3   0.608  0.318   1\n",
       "4   0.556  0.215   1\n",
       "5   0.403  0.237   1\n",
       "6   0.657  0.198   0\n",
       "7   0.360  0.370   0\n",
       "8   0.666  0.091   0\n",
       "9   0.243  0.267   0\n",
       "10  0.245  0.057   0\n",
       "11  0.639  0.161   0"
      ],
      "text/html": [
       "<div>\n",
       "<style scoped>\n",
       "    .dataframe tbody tr th:only-of-type {\n",
       "        vertical-align: middle;\n",
       "    }\n",
       "\n",
       "    .dataframe tbody tr th {\n",
       "        vertical-align: top;\n",
       "    }\n",
       "\n",
       "    .dataframe thead th {\n",
       "        text-align: right;\n",
       "    }\n",
       "</style>\n",
       "<table border=\"1\" class=\"dataframe\">\n",
       "  <thead>\n",
       "    <tr style=\"text-align: right;\">\n",
       "      <th></th>\n",
       "      <th>密度</th>\n",
       "      <th>含糖率</th>\n",
       "      <th>好瓜</th>\n",
       "    </tr>\n",
       "  </thead>\n",
       "  <tbody>\n",
       "    <tr>\n",
       "      <th>0</th>\n",
       "      <td>0.697</td>\n",
       "      <td>0.460</td>\n",
       "      <td>1</td>\n",
       "    </tr>\n",
       "    <tr>\n",
       "      <th>1</th>\n",
       "      <td>0.774</td>\n",
       "      <td>0.376</td>\n",
       "      <td>1</td>\n",
       "    </tr>\n",
       "    <tr>\n",
       "      <th>2</th>\n",
       "      <td>0.634</td>\n",
       "      <td>0.264</td>\n",
       "      <td>1</td>\n",
       "    </tr>\n",
       "    <tr>\n",
       "      <th>3</th>\n",
       "      <td>0.608</td>\n",
       "      <td>0.318</td>\n",
       "      <td>1</td>\n",
       "    </tr>\n",
       "    <tr>\n",
       "      <th>4</th>\n",
       "      <td>0.556</td>\n",
       "      <td>0.215</td>\n",
       "      <td>1</td>\n",
       "    </tr>\n",
       "    <tr>\n",
       "      <th>5</th>\n",
       "      <td>0.403</td>\n",
       "      <td>0.237</td>\n",
       "      <td>1</td>\n",
       "    </tr>\n",
       "    <tr>\n",
       "      <th>6</th>\n",
       "      <td>0.657</td>\n",
       "      <td>0.198</td>\n",
       "      <td>0</td>\n",
       "    </tr>\n",
       "    <tr>\n",
       "      <th>7</th>\n",
       "      <td>0.360</td>\n",
       "      <td>0.370</td>\n",
       "      <td>0</td>\n",
       "    </tr>\n",
       "    <tr>\n",
       "      <th>8</th>\n",
       "      <td>0.666</td>\n",
       "      <td>0.091</td>\n",
       "      <td>0</td>\n",
       "    </tr>\n",
       "    <tr>\n",
       "      <th>9</th>\n",
       "      <td>0.243</td>\n",
       "      <td>0.267</td>\n",
       "      <td>0</td>\n",
       "    </tr>\n",
       "    <tr>\n",
       "      <th>10</th>\n",
       "      <td>0.245</td>\n",
       "      <td>0.057</td>\n",
       "      <td>0</td>\n",
       "    </tr>\n",
       "    <tr>\n",
       "      <th>11</th>\n",
       "      <td>0.639</td>\n",
       "      <td>0.161</td>\n",
       "      <td>0</td>\n",
       "    </tr>\n",
       "  </tbody>\n",
       "</table>\n",
       "</div>"
      ]
     },
     "execution_count": 3,
     "metadata": {},
     "output_type": "execute_result"
    }
   ],
   "execution_count": 3
  },
  {
   "metadata": {
    "ExecuteTime": {
     "end_time": "2024-10-21T07:20:03.367016Z",
     "start_time": "2024-10-21T07:20:03.358472Z"
    }
   },
   "cell_type": "code",
   "source": [
    "# 特征和标签\n",
    "X_origin = data[['密度', '含糖率']].values  # 特征 (numpy.ndarray) \n",
    "y = data['好瓜'].values  # 输出标签，是否为好瓜 (numpy.ndarray) \n",
    "\n",
    "# 归一化（对数几率回归通常需要对输入进行标准化）\n",
    "scaler = StandardScaler()\n",
    "X = scaler.fit_transform(X_origin)\n",
    "\n",
    "# ndarray → tensor\n",
    "X_train = torch.tensor(X, dtype=torch.float32)\n",
    "y_train = torch.tensor(y, dtype=torch.float32).unsqueeze(1)  # 转换为列向量"
   ],
   "id": "7a3ac173c84273c6",
   "outputs": [],
   "execution_count": 4
  },
  {
   "metadata": {
    "ExecuteTime": {
     "end_time": "2024-10-21T07:20:03.374256Z",
     "start_time": "2024-10-21T07:20:03.368554Z"
    }
   },
   "cell_type": "code",
   "source": [
    "# 自定义对数几率回归模型\n",
    "class LogisticRegressionModel(nn.Module):\n",
    "    def __init__(self):\n",
    "        super(LogisticRegressionModel, self).__init__()\n",
    "        self.linear = nn.Linear(2, 1)\n",
    "\n",
    "    def forward(self, x):\n",
    "        # 使用sigmoid激活\n",
    "        return torch.sigmoid(self.linear(x))"
   ],
   "id": "51bf0f0794fd904f",
   "outputs": [],
   "execution_count": 5
  },
  {
   "metadata": {
    "ExecuteTime": {
     "end_time": "2024-10-21T07:20:04.129032Z",
     "start_time": "2024-10-21T07:20:03.376532Z"
    }
   },
   "cell_type": "code",
   "source": [
    "LR = 0.01\n",
    "EPOCHS = 1000\n",
    "\n",
    "model = LogisticRegressionModel()\n",
    "criterion = nn.BCELoss()  # 使用二元交叉熵度量损失\n",
    "optimizer = optim.SGD(model.parameters(), lr=LR)  # 使用SGD优化"
   ],
   "id": "750b461424ac2d5d",
   "outputs": [],
   "execution_count": 6
  },
  {
   "metadata": {
    "ExecuteTime": {
     "end_time": "2024-10-21T07:20:04.651805Z",
     "start_time": "2024-10-21T07:20:04.131673Z"
    }
   },
   "cell_type": "code",
   "source": [
    "# train (数据量较小,故epoch内不再分batch)\n",
    "for epoch in range(EPOCHS):\n",
    "    # 前向传播 \n",
    "    outputs = model(X_train)\n",
    "    loss = criterion(outputs, y_train)\n",
    "\n",
    "    # 反向传播和优化\n",
    "    optimizer.zero_grad()\n",
    "    loss.backward()\n",
    "    optimizer.step()\n",
    "\n",
    "    # 只打印10个loss\n",
    "    if (epoch + 1) % (EPOCHS // 10) == 0:\n",
    "        print(f'Epoch [{epoch + 1}/{EPOCHS}], Loss: {loss.item():.4f}')"
   ],
   "id": "80afb4313f000f65",
   "outputs": [
    {
     "name": "stdout",
     "output_type": "stream",
     "text": [
      "Epoch [100/1000], Loss: 0.5890\n",
      "Epoch [200/1000], Loss: 0.5490\n",
      "Epoch [300/1000], Loss: 0.5238\n",
      "Epoch [400/1000], Loss: 0.5070\n",
      "Epoch [500/1000], Loss: 0.4953\n",
      "Epoch [600/1000], Loss: 0.4869\n",
      "Epoch [700/1000], Loss: 0.4806\n",
      "Epoch [800/1000], Loss: 0.4758\n",
      "Epoch [900/1000], Loss: 0.4721\n",
      "Epoch [1000/1000], Loss: 0.4691\n"
     ]
    }
   ],
   "execution_count": 7
  },
  {
   "metadata": {
    "ExecuteTime": {
     "end_time": "2024-10-21T07:20:05.017346Z",
     "start_time": "2024-10-21T07:20:04.654676Z"
    }
   },
   "cell_type": "code",
   "source": [
    "# 绘制原始数据集的散点图 (未归一化数据)\n",
    "def plot_original_data(X, y, scaler):\n",
    "    # 逆标准化数据\n",
    "    X_original = scaler.inverse_transform(X)\n",
    "\n",
    "    # 好瓜(绿色点); 坏瓜(红色点)\n",
    "    good_melon = X_original[y == 1]\n",
    "    bad_melon = X_original[y == 0]\n",
    "    plt.scatter(good_melon[:, 0], good_melon[:, 1], color='green', label='good', marker='o')\n",
    "    plt.scatter(bad_melon[:, 0], bad_melon[:, 1], color='red', label='bad', marker='o')\n",
    "\n",
    "    plt.xlabel('density')\n",
    "    plt.ylabel('sugar(%)')\n",
    "    plt.legend()\n",
    "    plt.title('Logistic Regression on Melon Data')\n",
    "\n",
    "    plt.grid(True, linestyle='--', alpha=0.5)  # 启用网格线，虚线样式，透明度0.5\n",
    "\n",
    "    plt.show()\n",
    "\n",
    "\n",
    "# 绘制决策边界 (未归一化数据)\n",
    "def plot_decision_boundary_original_scale(model, X, y, scaler):\n",
    "    # 逆标准化数据\n",
    "    X_original = scaler.inverse_transform(X)\n",
    "\n",
    "    x_min, x_max = X_original[:, 0].min() - 0.1, X_original[:, 0].max() + 0.1\n",
    "    y_min, y_max = X_original[:, 1].min() - 0.1, X_original[:, 1].max() + 0.1\n",
    "\n",
    "    # 创建密集网格点 (原始尺度下)\n",
    "    xx, yy = np.meshgrid(np.arange(x_min, x_max, 0.001), np.arange(y_min, y_max, 0.001))\n",
    "    grid_original = np.c_[xx.ravel(), yy.ravel()]\n",
    "\n",
    "    # 将网格点标准化以输入模型\n",
    "    grid_standardized = scaler.transform(grid_original)\n",
    "    grid_standardized = torch.tensor(grid_standardized, dtype=torch.float32)\n",
    "\n",
    "    # 通过模型预测网格点的分类\n",
    "    with torch.no_grad():\n",
    "        Z = model(grid_standardized).reshape(xx.shape)\n",
    "        Z = (Z >= 0.5).float().numpy()\n",
    "\n",
    "    # 决策边界\n",
    "    plt.contourf(xx, yy, Z, levels=[-1, 0, 1], cmap='coolwarm', alpha=0.3)\n",
    "\n",
    "    # 添加网格线\n",
    "    plt.grid(True, linestyle='--', alpha=0.5)  # 启用网格线，虚线样式，透明度0.5\n",
    "\n",
    "    # 最后统一绘制 (调用原始数据点的绘制函数)\n",
    "    plot_original_data(X, y, scaler)\n",
    "\n",
    "\n",
    "# 绘制决策边界（使用未归一化数据）\n",
    "plot_decision_boundary_original_scale(model, X_train.numpy(), y, scaler)\n"
   ],
   "id": "9fcc4cdc80e83e36",
   "outputs": [
    {
     "data": {
      "text/plain": [
       "<Figure size 640x480 with 1 Axes>"
      ],
      "image/png": "[encoded data removed]"
     },
     "metadata": {},
     "output_type": "display_data"
    }
   ],
   "execution_count": 8
  },
  {
   "metadata": {
    "ExecuteTime": {
     "end_time": "2024-10-21T07:20:05.027517Z",
     "start_time": "2024-10-21T07:20:05.019351Z"
    }
   },
   "cell_type": "code",
   "source": [
    "# 查看输出模型参数 & 评估准确率\n",
    "with torch.no_grad():\n",
    "    predictions = model(X_train)\n",
    "    predicted = (predictions >= 0.5).float()\n",
    "    accuracy = (predicted.eq(y_train).sum() / y_train.shape[0]).item()\n",
    "    print(f'weight: {model.linear.weight.data}')\n",
    "    print(f'bias: {model.linear.bias.data}')\n",
    "    print(f'Accuracy: {accuracy * 100:.2f}%')"
   ],
   "id": "245fa2db9dc4e4b2",
   "outputs": [
    {
     "name": "stdout",
     "output_type": "stream",
     "text": [
      "weight: tensor([[0.6924, 1.1814]])\n",
      "bias: tensor([-0.0280])\n",
      "Accuracy: 75.00%\n"
     ]
    }
   ],
   "execution_count": 9
  }
 ],
 "metadata": {
  "kernelspec": {
   "display_name": "Python 3",
   "language": "python",
   "name": "python3"
  },
  "language_info": {
   "codemirror_mode": {
    "name": "ipython",
    "version": 2
   },
   "file_extension": ".py",
   "mimetype": "text/x-python",
   "name": "python",
   "nbconvert_exporter": "python",
   "pygments_lexer": "ipython2",
   "version": "2.7.6"
  }
 },
 "nbformat": 4,
 "nbformat_minor": 5
}
