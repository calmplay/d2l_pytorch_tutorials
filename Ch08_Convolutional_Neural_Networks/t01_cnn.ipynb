{
 "cells": [
  {
   "metadata": {},
   "cell_type": "markdown",
   "source": [
    "## 图像卷积\n",
    "\n",
    "互相关运算"
   ],
   "id": "4be492c45e15d85f"
  },
  {
   "metadata": {
    "ExecuteTime": {
     "end_time": "2024-10-14T06:29:42.489794Z",
     "start_time": "2024-10-14T06:29:39.520554Z"
    }
   },
   "cell_type": "code",
   "source": [
    "import torch\n",
    "from torch import nn\n",
    "from d2l import torch as d2l\n",
    "\n",
    "\n",
    "def corr2d(X, K):\n",
    "    \"\"\"\n",
    "    计算二维互相关运算\n",
    "    :param X: 输入图像(n_h, n_w)\n",
    "    :param K: 卷积核(h,w)\n",
    "    :return: 特征向量(隐藏层输出)(n_h - h + 1, n_w - w + 1)\n",
    "    \"\"\"\n",
    "    h, w = K.shape\n",
    "    # Y初始化为(n_h - h + 1, n_w - w + 1),全0,尺寸与核的大小有关\n",
    "    Y = torch.zeros((X.shape[0] - h + 1, X.shape[1] - w + 1))\n",
    "    for i in range(Y.shape[0]):\n",
    "        for j in range(Y.shape[1]):\n",
    "            Y[i, j] = (X[i: i + h, j: j + w] * K).sum()\n",
    "    return Y"
   ],
   "id": "5422baff1a73399b",
   "outputs": [],
   "execution_count": 1
  },
  {
   "metadata": {
    "ExecuteTime": {
     "end_time": "2024-10-14T06:29:42.502829Z",
     "start_time": "2024-10-14T06:29:42.491735Z"
    }
   },
   "cell_type": "code",
   "source": [
    "# 验证上述二维交叉互相关运算的输出\n",
    "X = torch.tensor([[0.0, 1.0, 2.0], [3.0, 4.0, 5.0], [6.0, 7.0, 8.0]])\n",
    "K = torch.tensor([[0.0, 1.0], [2.0, 3.0]])\n",
    "corr2d(X, K)"
   ],
   "id": "21edc9d6df3b3b9f",
   "outputs": [
    {
     "data": {
      "text/plain": [
       "tensor([[19., 25.],\n",
       "        [37., 43.]])"
      ]
     },
     "execution_count": 2,
     "metadata": {},
     "output_type": "execute_result"
    }
   ],
   "execution_count": 2
  },
  {
   "metadata": {
    "ExecuteTime": {
     "end_time": "2024-10-14T06:29:42.508726Z",
     "start_time": "2024-10-14T06:29:42.504275Z"
    }
   },
   "cell_type": "code",
   "source": [
    "# 二维卷积层实现\n",
    "class Conv2D(nn.Module):\n",
    "    \"\"\"\n",
    "    卷积层\n",
    "    \"\"\"\n",
    "\n",
    "    def __init__(self, kernel_size):\n",
    "        super().__init__()\n",
    "        self.weight = nn.Parameter(torch.rand(kernel_size))\n",
    "        self.bias = nn.Parameter(torch.zeros(1))\n",
    "\n",
    "    def forward(self, x):\n",
    "        return corr2d(x, self.weight) + self.bias"
   ],
   "id": "9f8b67c21e9764c5",
   "outputs": [],
   "execution_count": 3
  },
  {
   "metadata": {
    "ExecuteTime": {
     "end_time": "2024-10-14T06:29:42.520460Z",
     "start_time": "2024-10-14T06:29:42.510145Z"
    }
   },
   "cell_type": "code",
   "source": [
    "# 卷积层的一个简单应用: 检测图像中不同颜色的边缘\n",
    "# 1.检测上下边缘 (假设颜色没变,值中和→0, 否则≠0)\n",
    "X = torch.ones((6, 8))\n",
    "X[2:, :] = 0\n",
    "K = torch.tensor([[1.0], [-1.0]])  # 2*1的卷积核\n",
    "Y = corr2d(X, K)\n",
    "K, X, Y"
   ],
   "id": "5dcfc67c61ca1df0",
   "outputs": [
    {
     "data": {
      "text/plain": [
       "(tensor([[ 1.],\n",
       "         [-1.]]),\n",
       " tensor([[1., 1., 1., 1., 1., 1., 1., 1.],\n",
       "         [1., 1., 1., 1., 1., 1., 1., 1.],\n",
       "         [0., 0., 0., 0., 0., 0., 0., 0.],\n",
       "         [0., 0., 0., 0., 0., 0., 0., 0.],\n",
       "         [0., 0., 0., 0., 0., 0., 0., 0.],\n",
       "         [0., 0., 0., 0., 0., 0., 0., 0.]]),\n",
       " tensor([[0., 0., 0., 0., 0., 0., 0., 0.],\n",
       "         [1., 1., 1., 1., 1., 1., 1., 1.],\n",
       "         [0., 0., 0., 0., 0., 0., 0., 0.],\n",
       "         [0., 0., 0., 0., 0., 0., 0., 0.],\n",
       "         [0., 0., 0., 0., 0., 0., 0., 0.]]))"
      ]
     },
     "execution_count": 4,
     "metadata": {},
     "output_type": "execute_result"
    }
   ],
   "execution_count": 4
  },
  {
   "metadata": {
    "ExecuteTime": {
     "end_time": "2024-10-14T06:29:42.531449Z",
     "start_time": "2024-10-14T06:29:42.523463Z"
    }
   },
   "cell_type": "code",
   "source": [
    "X = torch.ones((6, 8))\n",
    "# 2.检测左右边缘\n",
    "X[:, 2:6] = 0\n",
    "K = K.t()  # 转置为1*2的卷积核\n",
    "Y = corr2d(X, K)\n",
    "K, X, Y"
   ],
   "id": "cca3c9666a87b219",
   "outputs": [
    {
     "data": {
      "text/plain": [
       "(tensor([[ 1., -1.]]),\n",
       " tensor([[1., 1., 0., 0., 0., 0., 1., 1.],\n",
       "         [1., 1., 0., 0., 0., 0., 1., 1.],\n",
       "         [1., 1., 0., 0., 0., 0., 1., 1.],\n",
       "         [1., 1., 0., 0., 0., 0., 1., 1.],\n",
       "         [1., 1., 0., 0., 0., 0., 1., 1.],\n",
       "         [1., 1., 0., 0., 0., 0., 1., 1.]]),\n",
       " tensor([[ 0.,  1.,  0.,  0.,  0., -1.,  0.],\n",
       "         [ 0.,  1.,  0.,  0.,  0., -1.,  0.],\n",
       "         [ 0.,  1.,  0.,  0.,  0., -1.,  0.],\n",
       "         [ 0.,  1.,  0.,  0.,  0., -1.,  0.],\n",
       "         [ 0.,  1.,  0.,  0.,  0., -1.,  0.],\n",
       "         [ 0.,  1.,  0.,  0.,  0., -1.,  0.]]))"
      ]
     },
     "execution_count": 5,
     "metadata": {},
     "output_type": "execute_result"
    }
   ],
   "execution_count": 5
  },
  {
   "metadata": {
    "ExecuteTime": {
     "end_time": "2024-10-14T06:29:42.624987Z",
     "start_time": "2024-10-14T06:29:42.533027Z"
    }
   },
   "cell_type": "code",
   "source": [
    "# 卷积核的学习\n",
    "conv2d = nn.Conv2d(1, 1, kernel_size=(1, 2), bias=False)  # 1个输入通道, 1个输出通道 (即 灰)\n",
    "\n",
    "# 已知X→Y,求K\n",
    "X = X.reshape((1, 1, 6, 8))  # 框架固定维度是4\n",
    "Y = Y.reshape((1, 1, 6, 7))  # 框架固定维度是4\n",
    "lr = 3e-2\n",
    "\n",
    "for i in range(20):\n",
    "    # 此处没有小批量, 整个X样本空间做一次卷积\n",
    "    Y_hat = conv2d(X)\n",
    "    l = (Y_hat - Y) ** 2  # 均方误差作为损失\n",
    "    conv2d.zero_grad()\n",
    "    l.sum().backward()\n",
    "    # 迭代卷积核\n",
    "    conv2d.weight.data[:] -= lr * conv2d.weight.grad\n",
    "    if (i + 1) % 2 == 0:\n",
    "        print(f'epoch {i + 1}, loss {l.sum():.3f}')\n",
    "\n",
    "print(conv2d.weight.data.reshape(1, 2))  # 跟实际的(1,-1)很接近了"
   ],
   "id": "91b407e0543ce8d5",
   "outputs": [
    {
     "name": "stdout",
     "output_type": "stream",
     "text": [
      "epoch 2, loss 4.082\n",
      "epoch 4, loss 0.688\n",
      "epoch 6, loss 0.117\n",
      "epoch 8, loss 0.020\n",
      "epoch 10, loss 0.004\n",
      "epoch 12, loss 0.001\n",
      "epoch 14, loss 0.000\n",
      "epoch 16, loss 0.000\n",
      "epoch 18, loss 0.000\n",
      "epoch 20, loss 0.000\n",
      "tensor([[ 0.9996, -1.0001]])\n"
     ]
    }
   ],
   "execution_count": 6
  },
  {
   "metadata": {},
   "cell_type": "markdown",
   "source": [
    "---\n",
    "### 填充和步幅"
   ],
   "id": "14adf47298d5e2f1"
  },
  {
   "metadata": {
    "ExecuteTime": {
     "end_time": "2024-10-14T06:29:42.635238Z",
     "start_time": "2024-10-14T06:29:42.626375Z"
    }
   },
   "cell_type": "code",
   "source": [
    "# 在所有侧边填充一个像素\n",
    "def comp_conv2d(conv2d, X):\n",
    "    X = X.reshape((1, 1) + X.shape)  # 改成4-D的, 尺寸为(1, 1, n_h, n_w)\n",
    "    Y = conv2d(X)  # 卷积运算, Y.shape = (1, 1, n_h - h + 1, n_w - w + 1)\n",
    "    return Y.reshape(Y.shape[2:])  # 维度重塑,去掉前俩D, 4-D → 2-D\n",
    "\n",
    "\n",
    "# 填充padding=1表示在所有侧边填充一个像素\n",
    "conv2d = nn.Conv2d(1, 1, kernel_size=3, padding=1)  # 卷积核的h,w都是3\n",
    "X = torch.rand(size=(8, 8))\n",
    "# X从(8,8)填充为(10,10),然后卷积输出Y(10-3+1, 10-3+1) → (8,8)\n",
    "Y = comp_conv2d(conv2d, X)\n",
    "X, Y, X.shape, Y.shape"
   ],
   "id": "3b44b5da56297049",
   "outputs": [
    {
     "data": {
      "text/plain": [
       "(tensor([[0.0084, 0.3842, 0.5325, 0.4041, 0.5534, 0.8698, 0.0440, 0.6768],\n",
       "         [0.2961, 0.0579, 0.9123, 0.0516, 0.7883, 0.8041, 0.0073, 0.1028],\n",
       "         [0.2554, 0.4194, 0.6112, 0.6528, 0.9175, 0.3694, 0.2766, 0.2828],\n",
       "         [0.2789, 0.9239, 0.8523, 0.1387, 0.6025, 0.4809, 0.5303, 0.4265],\n",
       "         [0.3759, 0.8523, 0.4456, 0.3210, 0.7283, 0.6718, 0.0126, 0.5152],\n",
       "         [0.9906, 0.8544, 0.5672, 0.0470, 0.4552, 0.7114, 0.3671, 0.2222],\n",
       "         [0.5748, 0.1254, 0.5790, 0.5916, 0.6218, 0.5297, 0.4932, 0.3525],\n",
       "         [0.7351, 0.7504, 0.4128, 0.4635, 0.2427, 0.8678, 0.8258, 0.8920]]),\n",
       " tensor([[-0.0864, -0.2221, -0.2981, -0.2426, -0.4050, -0.3004, -0.0799, -0.0691],\n",
       "         [-0.2368, -0.1842, -0.3493, -0.5087, -0.1423, -0.2999, -0.3807, -0.0961],\n",
       "         [-0.3239, -0.4584, -0.1481, -0.1404, -0.3212, -0.4446, -0.3585, -0.1928],\n",
       "         [-0.1991, -0.2063, -0.3219, -0.3682, -0.3267, -0.2061, -0.1629, -0.3027],\n",
       "         [-0.3640, -0.2896, -0.2635, -0.1147, -0.2574, -0.4576, -0.2038, -0.0838],\n",
       "         [ 0.0325, -0.2436, -0.5633, -0.3947, -0.1513, -0.3073, -0.3811, -0.1768],\n",
       "         [-0.3798, -0.3319, -0.1517, -0.2057, -0.3123, -0.5282, -0.5441, -0.3555],\n",
       "         [ 0.1797, -0.0890, -0.0568, -0.0521,  0.0656,  0.1348,  0.0112, -0.1997]],\n",
       "        grad_fn=<ViewBackward0>),\n",
       " torch.Size([8, 8]),\n",
       " torch.Size([8, 8]))"
      ]
     },
     "execution_count": 7,
     "metadata": {},
     "output_type": "execute_result"
    }
   ],
   "execution_count": 7
  },
  {
   "metadata": {
    "ExecuteTime": {
     "end_time": "2024-10-14T06:29:42.642490Z",
     "start_time": "2024-10-14T06:29:42.636653Z"
    }
   },
   "cell_type": "code",
   "source": [
    "# 也可以分别填充高度(上下)和宽度(左右)\n",
    "conv2d = nn.Conv2d(1, 1, kernel_size=(5,3), padding=(2,1))\n",
    "# X从(8,8)填充为(12,10),然后卷积输出Y(12-5+1, 10-3+1) → (8,8)\n",
    "comp_conv2d(conv2d, X).shape"
   ],
   "id": "830dfe5215a13b24",
   "outputs": [
    {
     "data": {
      "text/plain": [
       "torch.Size([8, 8])"
      ]
     },
     "execution_count": 8,
     "metadata": {},
     "output_type": "execute_result"
    }
   ],
   "execution_count": 8
  },
  {
   "metadata": {
    "ExecuteTime": {
     "end_time": "2024-10-14T06:29:42.651507Z",
     "start_time": "2024-10-14T06:29:42.643889Z"
    }
   },
   "cell_type": "code",
   "source": [
    "# 设置步幅\n",
    "conv2d = nn.Conv2d(1, 1, kernel_size=3, padding=1, stride=2)\n",
    "comp_conv2d(conv2d, X).shape"
   ],
   "id": "e46d8e5649671b62",
   "outputs": [
    {
     "data": {
      "text/plain": [
       "torch.Size([4, 4])"
      ]
     },
     "execution_count": 9,
     "metadata": {},
     "output_type": "execute_result"
    }
   ],
   "execution_count": 9
  },
  {
   "metadata": {
    "ExecuteTime": {
     "end_time": "2024-10-14T06:29:42.659725Z",
     "start_time": "2024-10-14T06:29:42.652838Z"
    }
   },
   "cell_type": "code",
   "source": [
    "# 一个稍微复杂的例子\n",
    "conv2d = nn.Conv2d(1, 1, kernel_size=(3, 5), padding=(0, 1), stride=(3, 4))\n",
    "comp_conv2d(conv2d, X).shape"
   ],
   "id": "a86752b097c81ed4",
   "outputs": [
    {
     "data": {
      "text/plain": [
       "torch.Size([2, 2])"
      ]
     },
     "execution_count": 10,
     "metadata": {},
     "output_type": "execute_result"
    }
   ],
   "execution_count": 10
  }
 ],
 "metadata": {
  "kernelspec": {
   "display_name": "Python 3",
   "language": "python",
   "name": "python3"
  },
  "language_info": {
   "codemirror_mode": {
    "name": "ipython",
    "version": 2
   },
   "file_extension": ".py",
   "mimetype": "text/x-python",
   "name": "python",
   "nbconvert_exporter": "python",
   "pygments_lexer": "ipython2",
   "version": "2.7.6"
  }
 },
 "nbformat": 4,
 "nbformat_minor": 5
}
