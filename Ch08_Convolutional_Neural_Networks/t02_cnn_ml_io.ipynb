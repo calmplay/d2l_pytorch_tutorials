{
 "cells": [
  {
   "metadata": {},
   "cell_type": "markdown",
   "source": "### 多输入多输出通道",
   "id": "f654566c0995a220"
  },
  {
   "metadata": {
    "ExecuteTime": {
     "end_time": "2024-10-14T06:29:55.861568Z",
     "start_time": "2024-10-14T06:29:52.858088Z"
    }
   },
   "cell_type": "code",
   "source": [
    "# 实现多输入通道互相关运算\n",
    "import torch\n",
    "from d2l import torch as d2l\n",
    "\n",
    "\n",
    "def corr2d_multi_in(X, K):\n",
    "    # 先遍历“X”和“K”的第0个维度(通道维度),再把它们加在一起\n",
    "    return sum(d2l.corr2d(x, k) for x, k in zip(X, K))"
   ],
   "id": "94e666a55a4f3729",
   "outputs": [],
   "execution_count": 1
  },
  {
   "metadata": {
    "ExecuteTime": {
     "end_time": "2024-10-14T06:29:55.877863Z",
     "start_time": "2024-10-14T06:29:55.864471Z"
    }
   },
   "cell_type": "code",
   "source": [
    "# 验证\n",
    "# X是双通道输入(2*(3*3)), K是2个二维卷积核(2*(2*2))\n",
    "X = torch.tensor([[[0.0, 1.0, 2.0], [3.0, 4.0, 5.0], [6.0, 7.0, 8.0]],\n",
    "                  [[1.0, 2.0, 3.0], [4.0, 5.0, 6.0], [7.0, 8.0, 9.0]]])\n",
    "K = torch.tensor([[[0.0, 1.0], [2.0, 3.0]], [[1.0, 2.0], [3.0, 4.0]]])\n",
    "X, K, corr2d_multi_in(X, K)"
   ],
   "id": "33e448811ad5361e",
   "outputs": [
    {
     "data": {
      "text/plain": [
       "(tensor([[[0., 1., 2.],\n",
       "          [3., 4., 5.],\n",
       "          [6., 7., 8.]],\n",
       " \n",
       "         [[1., 2., 3.],\n",
       "          [4., 5., 6.],\n",
       "          [7., 8., 9.]]]),\n",
       " tensor([[[0., 1.],\n",
       "          [2., 3.]],\n",
       " \n",
       "         [[1., 2.],\n",
       "          [3., 4.]]]),\n",
       " tensor([[ 56.,  72.],\n",
       "         [104., 120.]]))"
      ]
     },
     "execution_count": 2,
     "metadata": {},
     "output_type": "execute_result"
    }
   ],
   "execution_count": 2
  },
  {
   "metadata": {
    "ExecuteTime": {
     "end_time": "2024-10-14T06:29:55.887470Z",
     "start_time": "2024-10-14T06:29:55.879130Z"
    }
   },
   "cell_type": "code",
   "source": [
    "# 多输入,多输出通道\n",
    "def corr2d_multi_in_out(X, K):\n",
    "    # 在第0维,将列表中的tensor拼接为一个tensor\n",
    "    return torch.stack([corr2d_multi_in(X, k) for k in K], 0)\n",
    "\n",
    "\n",
    "# k: 3个输出通道,拼接在一起\n",
    "K = torch.stack((K, K + 1, K + 2), 0)  # 不同的输出通道可以识别特定模式\n",
    "# 输入X是2个通道, 输出是3个通道(每个通道两个核,对应处理2个输入通道)\n",
    "K.shape, corr2d_multi_in_out(X, K)"
   ],
   "id": "5918487b37a9f623",
   "outputs": [
    {
     "data": {
      "text/plain": [
       "(torch.Size([3, 2, 2, 2]),\n",
       " tensor([[[ 56.,  72.],\n",
       "          [104., 120.]],\n",
       " \n",
       "         [[ 76., 100.],\n",
       "          [148., 172.]],\n",
       " \n",
       "         [[ 96., 128.],\n",
       "          [192., 224.]]]))"
      ]
     },
     "execution_count": 3,
     "metadata": {},
     "output_type": "execute_result"
    }
   ],
   "execution_count": 3
  },
  {
   "metadata": {
    "ExecuteTime": {
     "end_time": "2024-10-14T06:29:55.896915Z",
     "start_time": "2024-10-14T06:29:55.889183Z"
    }
   },
   "cell_type": "code",
   "source": [
    "# 1×1卷积, 等价于全连接\n",
    "def corr2d_multi_in_out_1x1(X, K):\n",
    "    c_i, h, w = X.shape\n",
    "    c_o = K.shape[0]\n",
    "    X = X.reshape((c_i, h * w))\n",
    "    K = K.reshape((c_o, c_i))\n",
    "    # 全连接层计算\n",
    "    Y = torch.matmul(K, X)\n",
    "    return Y.reshape((c_o, h, w))\n",
    "\n",
    "\n",
    "X = torch.normal(0, 1, (3, 3, 3))  # (通道,高,宽)\n",
    "K = torch.normal(0, 1, (2, 3, 1, 1))  # (输出通道,输入通道,核高,核宽)\n",
    "Y1 = corr2d_multi_in_out_1x1(X, K)\n",
    "Y2 = corr2d_multi_in_out(X, K)\n",
    "assert float(torch.abs(Y1 - Y2).sum()) < 1e-6"
   ],
   "id": "702468b0a4c6a0ed",
   "outputs": [],
   "execution_count": 4
  }
 ],
 "metadata": {
  "kernelspec": {
   "display_name": "Python 3",
   "language": "python",
   "name": "python3"
  },
  "language_info": {
   "codemirror_mode": {
    "name": "ipython",
    "version": 2
   },
   "file_extension": ".py",
   "mimetype": "text/x-python",
   "name": "python",
   "nbconvert_exporter": "python",
   "pygments_lexer": "ipython2",
   "version": "2.7.6"
  }
 },
 "nbformat": 4,
 "nbformat_minor": 5
}
